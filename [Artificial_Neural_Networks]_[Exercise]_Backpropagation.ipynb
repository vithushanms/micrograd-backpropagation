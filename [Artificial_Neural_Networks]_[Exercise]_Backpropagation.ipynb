{
  "nbformat": 4,
  "nbformat_minor": 0,
  "metadata": {
    "colab": {
      "provenance": [],
      "include_colab_link": true
    },
    "kernelspec": {
      "name": "python3",
      "display_name": "Python 3"
    },
    "language_info": {
      "name": "python"
    }
  },
  "cells": [
    {
      "cell_type": "markdown",
      "metadata": {
        "id": "view-in-github",
        "colab_type": "text"
      },
      "source": [
        "<a href=\"https://colab.research.google.com/github/vithushanms/micrograd-backpropagation/blob/main/%5BArtificial_Neural_Networks%5D_%5BExercise%5D_Backpropagation.ipynb\" target=\"_parent\"><img src=\"https://colab.research.google.com/assets/colab-badge.svg\" alt=\"Open In Colab\"/></a>"
      ]
    },
    {
      "cell_type": "markdown",
      "source": [
        "Sample of the micrograd \n",
        "\n",
        "Git repo: https://github.com/karpathy/micrograd/tree/master/micrograd"
      ],
      "metadata": {
        "id": "Wz624rX0Wi1B"
      }
    },
    {
      "cell_type": "code",
      "execution_count": 2,
      "metadata": {
        "id": "DCxHujvYTo97"
      },
      "outputs": [],
      "source": [
        "import math\n",
        "import numpy as np\n",
        "import matplotlib.pyplot as plt\n",
        "%matplotlib inline"
      ]
    },
    {
      "cell_type": "code",
      "source": [
        "# just defining the function\n",
        "def f(x):\n",
        "  return 3*x**2 - 4*x + 5"
      ],
      "metadata": {
        "id": "gOCsPtnaWeY1"
      },
      "execution_count": 3,
      "outputs": []
    },
    {
      "cell_type": "code",
      "source": [
        "#test the function\n",
        "f(2.0)"
      ],
      "metadata": {
        "colab": {
          "base_uri": "https://localhost:8080/"
        },
        "id": "xEWG_VhVIblT",
        "outputId": "e2572d76-a6aa-488e-84c3-318640be1c46"
      },
      "execution_count": 4,
      "outputs": [
        {
          "output_type": "execute_result",
          "data": {
            "text/plain": [
              "9.0"
            ]
          },
          "metadata": {},
          "execution_count": 4
        }
      ]
    },
    {
      "cell_type": "code",
      "source": [
        "#creating a range \n",
        "xs = np.arange(-5,5,0.25)\n",
        "\n",
        "#adding the range to the function and getting the oputput range\n",
        "ys = f(xs)\n",
        "\n",
        "#plotting the outcome range \n",
        "plt.plot(ys)"
      ],
      "metadata": {
        "colab": {
          "base_uri": "https://localhost:8080/",
          "height": 282
        },
        "id": "M7P5Ds83IfMB",
        "outputId": "6b17fbe3-814e-471f-ebf4-804e1c70a678"
      },
      "execution_count": 5,
      "outputs": [
        {
          "output_type": "execute_result",
          "data": {
            "text/plain": [
              "[<matplotlib.lines.Line2D at 0x7fd653208a60>]"
            ]
          },
          "metadata": {},
          "execution_count": 5
        },
        {
          "output_type": "display_data",
          "data": {
            "text/plain": [
              "<Figure size 432x288 with 1 Axes>"
            ],
            "image/png": "[encoded data removed]"
          },
          "metadata": {
            "needs_background": "light"
          }
        }
      ]
    },
    {
      "cell_type": "markdown",
      "source": [
        "![image.png](data:image/png;base64,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)"
      ],
      "metadata": {
        "id": "-r4STmK-RIvW"
      }
    },
    {
      "cell_type": "code",
      "source": [
        "#So here the derivative will give us the sloap of the function\n",
        "\n",
        "#from the small adjustment h we make to the function f will see what happens  \n",
        "h = 0.00000001\n",
        "x = 3\n",
        "(f(x + h) - f(x))/h"
      ],
      "metadata": {
        "colab": {
          "base_uri": "https://localhost:8080/"
        },
        "id": "2okzodiBI6xp",
        "outputId": "4f009c75-b561-4e5d-d056-242254accca4"
      },
      "execution_count": 6,
      "outputs": [
        {
          "output_type": "execute_result",
          "data": {
            "text/plain": [
              "14.00000009255109"
            ]
          },
          "metadata": {},
          "execution_count": 6
        }
      ]
    },
    {
      "cell_type": "code",
      "source": [
        "\n",
        "a = 2.0\n",
        "b = -3.0\n",
        "c = 10.0\n",
        "\n",
        "d = a*b + c\n",
        "\n",
        "print(d)\n",
        "\n",
        "#here if we take a function and try to adjust this by a very small ammount h\n",
        "h = 0.0001\n",
        "\n",
        "# inputs\n",
        "a = 2.0\n",
        "b = -3.0\n",
        "c = 10.0\n",
        "\n",
        "d1 = a*b + c\n",
        "c += h\n",
        "d2 = a*b + c\n",
        "\n",
        "print('d1', d1)\n",
        "print('d2', d2)\n",
        "print('slope', (d2 - d1)/h)"
      ],
      "metadata": {
        "colab": {
          "base_uri": "https://localhost:8080/"
        },
        "id": "djLma9F8RjlA",
        "outputId": "01432bc9-1473-45e4-a6fc-c68b6ebcb0bc"
      },
      "execution_count": 7,
      "outputs": [
        {
          "output_type": "stream",
          "name": "stdout",
          "text": [
            "4.0\n",
            "d1 4.0\n",
            "d2 4.0001\n",
            "slope 0.9999999999976694\n"
          ]
        }
      ]
    },
    {
      "cell_type": "code",
      "source": [
        "# Trying to represent a simple math object to explain the behaviour of mathematical activasion functions \n",
        "\n",
        "class Value:\n",
        "  def __init__(self, data):\n",
        "    self.data = data\n",
        "\n",
        "  def __repr__(self):\n",
        "    return f\"Value(data={self.data})\"\n",
        "\n",
        "  def __add__(self, other):\n",
        "    return Value(self.data + other.data)\n",
        "\n",
        "  def __mul__(self, other):\n",
        "    return Value(self.data * other.data)"
      ],
      "metadata": {
        "id": "N9Sc6GpUTj9p"
      },
      "execution_count": 8,
      "outputs": []
    },
    {
      "cell_type": "code",
      "source": [
        "a = Value(2.0)\n",
        "b = Value(3.0)\n",
        "\n",
        "a + b\n",
        "c = a + b \n",
        "d = c + a\n",
        "d"
      ],
      "metadata": {
        "colab": {
          "base_uri": "https://localhost:8080/"
        },
        "id": "-yfNoXSBKh4u",
        "outputId": "beab5c57-1653-49af-9236-cae5d00803a8"
      },
      "execution_count": 9,
      "outputs": [
        {
          "output_type": "execute_result",
          "data": {
            "text/plain": [
              "Value(data=7.0)"
            ]
          },
          "metadata": {},
          "execution_count": 9
        }
      ]
    },
    {
      "cell_type": "code",
      "source": [
        "# modifying the Value object to accept multple nodes of Value objects\n",
        "class Value:\n",
        "  def __init__(self, data, _children = (), _op=''):\n",
        "    self.data = data\n",
        "    self._prev = set(_children) \n",
        "    self._op = _op\n",
        "\n",
        "  def __repr__(self):\n",
        "    return f\"Value(data={self.data})\"\n",
        "\n",
        "  def __add__(self, other):\n",
        "    return Value(self.data + other.data, (self, other), \"+\")\n",
        "\n",
        "  def __mul__(self, other):\n",
        "    return Value(self.data * other.data, (self, other), \"*\")"
      ],
      "metadata": {
        "id": "wGZoFrouKwtW"
      },
      "execution_count": 10,
      "outputs": []
    },
    {
      "cell_type": "code",
      "source": [
        "a = Value(2.0)\n",
        "b = Value(-3.0)\n",
        "c = Value(10.0)\n",
        "f = a * b\n",
        "\n",
        "a.__mul__(b)\n",
        "\n",
        "#Value(data = 2.0*-3.0, (a,b), \"*\") = f\n",
        "# f._prev = (a,b)\n",
        "\n",
        "d = f + c\n",
        "\n",
        "f.__add__(c)\n",
        "\n",
        "#Value(-6.0+10.0, (f,c), \"+\")\n",
        "\n",
        "#d -> (f,c)     , f -> (a,b)\n",
        "\n",
        "(a.__mul__(b)).__add__(c)\n"
      ],
      "metadata": {
        "colab": {
          "base_uri": "https://localhost:8080/"
        },
        "id": "NLzEe25qTbBE",
        "outputId": "fa9d9e3d-6f53-4823-b776-4f3624a3b682"
      },
      "execution_count": 11,
      "outputs": [
        {
          "output_type": "execute_result",
          "data": {
            "text/plain": [
              "Value(data=4.0)"
            ]
          },
          "metadata": {},
          "execution_count": 11
        }
      ]
    },
    {
      "cell_type": "code",
      "source": [
        "#This is just a code that we don't really need to understand, just used for visualization helper functions--------------\n",
        "\n",
        "from graphviz import Digraph\n",
        "\n",
        "def trace(root):\n",
        "  # builds a set of all nodes and edges in a graph\n",
        "  nodes, edges = set(), set()\n",
        "  def build(v):\n",
        "    if v not in nodes:\n",
        "      nodes.add(v)\n",
        "      for child in v._prev:\n",
        "        edges.add((child, v))\n",
        "        build(child)\n",
        "  build(root)\n",
        "  return nodes, edges\n",
        "\n",
        "def draw_dot(root):\n",
        "  dot = Digraph(format='svg', graph_attr={'rankdir': 'LR'}) # LR = left to right\n",
        "  \n",
        "  nodes, edges = trace(root)\n",
        "  for n in nodes:\n",
        "    uid = str(id(n))\n",
        "    # for any value in the graph, create a rectangular ('record') node for it\n",
        "    dot.node(name = uid, label = \"{ data %.4f }\" % ( n.data,), shape='record')\n",
        "    if n._op:\n",
        "      # if this value is a result of some operation, create an op node for it\n",
        "      dot.node(name = uid + n._op, label = n._op)\n",
        "      # and connect this node to it\n",
        "      dot.edge(uid + n._op, uid)\n",
        "\n",
        "  for n1, n2 in edges:\n",
        "    # connect n1 to the op node of n2\n",
        "    dot.edge(str(id(n1)), str(id(n2)) + n2._op)\n",
        "\n",
        "  return dot\n",
        "\n",
        "#-----------------------------------------------------------------------------------------------------------------------------------"
      ],
      "metadata": {
        "id": "KQjhyacuTkJR"
      },
      "execution_count": 12,
      "outputs": []
    },
    {
      "cell_type": "code",
      "source": [
        "# call from the visualization function to show the Value object in graph\n",
        "draw_dot(d)"
      ],
      "metadata": {
        "colab": {
          "base_uri": "https://localhost:8080/",
          "height": 190
        },
        "id": "9Pc-ljPeU_ed",
        "outputId": "05689511-ff67-4480-f313-5595e3429a98"
      },
      "execution_count": 13,
      "outputs": [
        {
          "output_type": "execute_result",
          "data": {
            "text/plain": [
              "<graphviz.dot.Digraph at 0x7fd6531c1970>"
            ],
            "image/svg+xml": "<?xml version=\"1.0\" encoding=\"UTF-8\" standalone=\"no\"?>\n<!DOCTYPE svg PUBLIC \"-//W3C//DTD SVG 1.1//EN\"\n \"http://www.w3.org/Graphics/SVG/1.1/DTD/svg11.dtd\">\n<!-- Generated by graphviz version 2.43.0 (0)\n -->\n<!-- Title: %3 Pages: 1 -->\n<svg width=\"512pt\" height=\"127pt\"\n viewBox=\"0.00 0.00 512.00 127.00\" xmlns=\"http://www.w3.org/2000/svg\" xmlns:xlink=\"http://www.w3.org/1999/xlink\">\n<g id=\"graph0\" class=\"graph\" transform=\"scale(1 1) rotate(0) translate(4 123)\">\n<title>%3</title>\n<polygon fill=\"white\" stroke=\"transparent\" points=\"-4,4 -4,-123 508,-123 508,4 -4,4\"/>\n<!-- 140558494217936 -->\n<g id=\"node1\" class=\"node\">\n<title>140558494217936</title>\n<polygon fill=\"none\" stroke=\"black\" points=\"424,-54.5 424,-90.5 504,-90.5 504,-54.5 424,-54.5\"/>\n<text text-anchor=\"middle\" x=\"464\" y=\"-68.8\" font-family=\"Times,serif\" font-size=\"14.00\">data 4.0000</text>\n</g>\n<!-- 140558494217936+ -->\n<g id=\"node2\" class=\"node\">\n<title>140558494217936+</title>\n<ellipse fill=\"none\" stroke=\"black\" cx=\"361\" cy=\"-72.5\" rx=\"27\" ry=\"18\"/>\n<text text-anchor=\"middle\" x=\"361\" y=\"-68.8\" font-family=\"Times,serif\" font-size=\"14.00\">+</text>\n</g>\n<!-- 140558494217936+&#45;&gt;140558494217936 -->\n<g id=\"edge1\" class=\"edge\">\n<title>140558494217936+&#45;&gt;140558494217936</title>\n<path fill=\"none\" stroke=\"black\" d=\"M388.01,-72.5C395.82,-72.5 404.67,-72.5 413.48,-72.5\"/>\n<polygon fill=\"black\" stroke=\"black\" points=\"413.73,-76 423.73,-72.5 413.73,-69 413.73,-76\"/>\n</g>\n<!-- 140558494220000 -->\n<g id=\"node3\" class=\"node\">\n<title>140558494220000</title>\n<polygon fill=\"none\" stroke=\"black\" points=\"0,-55.5 0,-91.5 85,-91.5 85,-55.5 0,-55.5\"/>\n<text text-anchor=\"middle\" x=\"42.5\" y=\"-69.8\" font-family=\"Times,serif\" font-size=\"14.00\">data &#45;3.0000</text>\n</g>\n<!-- 140558511920032* -->\n<g id=\"node7\" class=\"node\">\n<title>140558511920032*</title>\n<ellipse fill=\"none\" stroke=\"black\" cx=\"148\" cy=\"-45.5\" rx=\"27\" ry=\"18\"/>\n<text text-anchor=\"middle\" x=\"148\" y=\"-41.8\" font-family=\"Times,serif\" font-size=\"14.00\">*</text>\n</g>\n<!-- 140558494220000&#45;&gt;140558511920032* -->\n<g id=\"edge4\" class=\"edge\">\n<title>140558494220000&#45;&gt;140558511920032*</title>\n<path fill=\"none\" stroke=\"black\" d=\"M85,-62.27C94.32,-59.75 104.1,-57.11 113.06,-54.68\"/>\n<polygon fill=\"black\" stroke=\"black\" points=\"114.03,-58.04 122.77,-52.05 112.2,-51.29 114.03,-58.04\"/>\n</g>\n<!-- 140558494218560 -->\n<g id=\"node4\" class=\"node\">\n<title>140558494218560</title>\n<polygon fill=\"none\" stroke=\"black\" points=\"2.5,-0.5 2.5,-36.5 82.5,-36.5 82.5,-0.5 2.5,-0.5\"/>\n<text text-anchor=\"middle\" x=\"42.5\" y=\"-14.8\" font-family=\"Times,serif\" font-size=\"14.00\">data 2.0000</text>\n</g>\n<!-- 140558494218560&#45;&gt;140558511920032* -->\n<g id=\"edge5\" class=\"edge\">\n<title>140558494218560&#45;&gt;140558511920032*</title>\n<path fill=\"none\" stroke=\"black\" d=\"M82.63,-28.71C92.47,-31.27 102.95,-34.01 112.54,-36.51\"/>\n<polygon fill=\"black\" stroke=\"black\" points=\"111.96,-39.98 122.52,-39.11 113.73,-33.2 111.96,-39.98\"/>\n</g>\n<!-- 140558511922048 -->\n<g id=\"node5\" class=\"node\">\n<title>140558511922048</title>\n<polygon fill=\"none\" stroke=\"black\" points=\"211,-82.5 211,-118.5 298,-118.5 298,-82.5 211,-82.5\"/>\n<text text-anchor=\"middle\" x=\"254.5\" y=\"-96.8\" font-family=\"Times,serif\" font-size=\"14.00\">data 10.0000</text>\n</g>\n<!-- 140558511922048&#45;&gt;140558494217936+ -->\n<g id=\"edge3\" class=\"edge\">\n<title>140558511922048&#45;&gt;140558494217936+</title>\n<path fill=\"none\" stroke=\"black\" d=\"M298,-89.11C307.18,-86.65 316.78,-84.08 325.6,-81.72\"/>\n<polygon fill=\"black\" stroke=\"black\" points=\"326.78,-85.02 335.53,-79.06 324.97,-78.26 326.78,-85.02\"/>\n</g>\n<!-- 140558511920032 -->\n<g id=\"node6\" class=\"node\">\n<title>140558511920032</title>\n<polygon fill=\"none\" stroke=\"black\" points=\"212,-27.5 212,-63.5 297,-63.5 297,-27.5 212,-27.5\"/>\n<text text-anchor=\"middle\" x=\"254.5\" y=\"-41.8\" font-family=\"Times,serif\" font-size=\"14.00\">data &#45;6.0000</text>\n</g>\n<!-- 140558511920032&#45;&gt;140558494217936+ -->\n<g id=\"edge6\" class=\"edge\">\n<title>140558511920032&#45;&gt;140558494217936+</title>\n<path fill=\"none\" stroke=\"black\" d=\"M297.1,-56.25C306.61,-58.71 316.62,-61.29 325.78,-63.66\"/>\n<polygon fill=\"black\" stroke=\"black\" points=\"325.13,-67.11 335.69,-66.22 326.88,-60.33 325.13,-67.11\"/>\n</g>\n<!-- 140558511920032*&#45;&gt;140558511920032 -->\n<g id=\"edge2\" class=\"edge\">\n<title>140558511920032*&#45;&gt;140558511920032</title>\n<path fill=\"none\" stroke=\"black\" d=\"M175.1,-45.5C183.27,-45.5 192.59,-45.5 201.88,-45.5\"/>\n<polygon fill=\"black\" stroke=\"black\" points=\"201.89,-49 211.89,-45.5 201.89,-42 201.89,-49\"/>\n</g>\n</g>\n</svg>\n"
          },
          "metadata": {},
          "execution_count": 13
        }
      ]
    },
    {
      "cell_type": "code",
      "source": [
        "#changing the chart libraries to show the label---------------------------------------------\n",
        "\n",
        "from graphviz import Digraph\n",
        "\n",
        "def trace(root):\n",
        "  # builds a set of all nodes and edges in a graph\n",
        "  nodes, edges = set(), set()\n",
        "  def build(v):\n",
        "    if v not in nodes:\n",
        "      nodes.add(v)\n",
        "      for child in v._prev:\n",
        "        edges.add((child, v))\n",
        "        build(child)\n",
        "  build(root)\n",
        "  return nodes, edges\n",
        "\n",
        "def draw_dot(root):\n",
        "  dot = Digraph(format='svg', graph_attr={'rankdir': 'LR'}) # LR = left to right\n",
        "  \n",
        "  nodes, edges = trace(root)\n",
        "  for n in nodes:\n",
        "    uid = str(id(n))\n",
        "    # for any value in the graph, create a rectangular ('record') node for it\n",
        "    dot.node(name = uid, label = \"{ %s | data %.4f }\" % (n.label, n.data,), shape='record')\n",
        "    if n._op:\n",
        "      # if this value is a result of some operation, create an op node for it\n",
        "      dot.node(name = uid + n._op, label = n._op)\n",
        "      # and connect this node to it\n",
        "      dot.edge(uid + n._op, uid)\n",
        "\n",
        "  for n1, n2 in edges:\n",
        "    # connect n1 to the op node of n2\n",
        "    dot.edge(str(id(n1)), str(id(n2)) + n2._op)\n",
        "\n",
        "  return dot\n",
        "\n",
        "#-----------------------------------------------------------------------------------------------------------------------------------"
      ],
      "metadata": {
        "id": "hvR6fUKRnKsc"
      },
      "execution_count": 14,
      "outputs": []
    },
    {
      "cell_type": "code",
      "source": [
        "#changing the Value model to accept labels\n",
        "class Value:\n",
        "  def __init__(self, data, _children = (), _op='', label = ''):\n",
        "    self.data = data\n",
        "    self._prev = set(_children)\n",
        "    self._op = _op\n",
        "    self.label = label\n",
        "\n",
        "  def __repr__(self):\n",
        "    return f\"Value(data={self.data})\"\n",
        "\n",
        "  def __add__(self, other):\n",
        "    return Value(self.data + other.data, (self, other), \"+\")\n",
        "\n",
        "  def __mul__(self, other):\n",
        "    return Value(self.data * other.data, (self, other), \"*\") "
      ],
      "metadata": {
        "id": "LSbgOCWsVCz6"
      },
      "execution_count": 15,
      "outputs": []
    },
    {
      "cell_type": "code",
      "source": [
        "a = Value(2.0, label = 'a')\n",
        "b = Value(-3.0, label = 'b')\n",
        "c = Value(10.0, label = 'c')\n",
        "e = a*b; e.label = 'e'\n",
        "d = e + c; d.label = 'd'\n",
        "f = Value(-2.0, label = 'f')\n",
        "L = d* f\n",
        "L.label = 'L'\n",
        "L"
      ],
      "metadata": {
        "colab": {
          "base_uri": "https://localhost:8080/"
        },
        "id": "62qSVEG7m7E3",
        "outputId": "1db033ba-8da7-4dc7-bccd-903115593ff2"
      },
      "execution_count": 16,
      "outputs": [
        {
          "output_type": "execute_result",
          "data": {
            "text/plain": [
              "Value(data=-8.0)"
            ]
          },
          "metadata": {},
          "execution_count": 16
        }
      ]
    },
    {
      "cell_type": "code",
      "source": [
        "draw_dot(L)"
      ],
      "metadata": {
        "colab": {
          "base_uri": "https://localhost:8080/",
          "height": 246
        },
        "id": "x20nozzUoBbE",
        "outputId": "04988a24-d3b8-4c54-bb26-e782be49348d"
      },
      "execution_count": 17,
      "outputs": [
        {
          "output_type": "execute_result",
          "data": {
            "text/plain": [
              "<graphviz.dot.Digraph at 0x7fd6531e0d00>"
            ],
            "image/svg+xml": "<?xml version=\"1.0\" encoding=\"UTF-8\" standalone=\"no\"?>\n<!DOCTYPE svg PUBLIC \"-//W3C//DTD SVG 1.1//EN\"\n \"http://www.w3.org/Graphics/SVG/1.1/DTD/svg11.dtd\">\n<!-- Generated by graphviz version 2.43.0 (0)\n -->\n<!-- Title: %3 Pages: 1 -->\n<svg width=\"820pt\" height=\"154pt\"\n viewBox=\"0.00 0.00 820.00 154.00\" xmlns=\"http://www.w3.org/2000/svg\" xmlns:xlink=\"http://www.w3.org/1999/xlink\">\n<g id=\"graph0\" class=\"graph\" transform=\"scale(1 1) rotate(0) translate(4 150)\">\n<title>%3</title>\n<polygon fill=\"white\" stroke=\"transparent\" points=\"-4,4 -4,-150 816,-150 816,4 -4,4\"/>\n<!-- 140558494216784 -->\n<g id=\"node1\" class=\"node\">\n<title>140558494216784</title>\n<polygon fill=\"none\" stroke=\"black\" points=\"235,-27.5 235,-63.5 343,-63.5 343,-27.5 235,-27.5\"/>\n<text text-anchor=\"middle\" x=\"246.5\" y=\"-41.8\" font-family=\"Times,serif\" font-size=\"14.00\">e</text>\n<polyline fill=\"none\" stroke=\"black\" points=\"258,-27.5 258,-63.5 \"/>\n<text text-anchor=\"middle\" x=\"300.5\" y=\"-41.8\" font-family=\"Times,serif\" font-size=\"14.00\">data &#45;6.0000</text>\n</g>\n<!-- 140558494216400+ -->\n<g id=\"node5\" class=\"node\">\n<title>140558494216400+</title>\n<ellipse fill=\"none\" stroke=\"black\" cx=\"407\" cy=\"-72.5\" rx=\"27\" ry=\"18\"/>\n<text text-anchor=\"middle\" x=\"407\" y=\"-68.8\" font-family=\"Times,serif\" font-size=\"14.00\">+</text>\n</g>\n<!-- 140558494216784&#45;&gt;140558494216400+ -->\n<g id=\"edge7\" class=\"edge\">\n<title>140558494216784&#45;&gt;140558494216400+</title>\n<path fill=\"none\" stroke=\"black\" d=\"M343.25,-57.89C352.75,-60.11 362.43,-62.36 371.24,-64.41\"/>\n<polygon fill=\"black\" stroke=\"black\" points=\"370.6,-67.85 381.14,-66.71 372.19,-61.04 370.6,-67.85\"/>\n</g>\n<!-- 140558494216784* -->\n<g id=\"node2\" class=\"node\">\n<title>140558494216784*</title>\n<ellipse fill=\"none\" stroke=\"black\" cx=\"171\" cy=\"-45.5\" rx=\"27\" ry=\"18\"/>\n<text text-anchor=\"middle\" x=\"171\" y=\"-41.8\" font-family=\"Times,serif\" font-size=\"14.00\">*</text>\n</g>\n<!-- 140558494216784*&#45;&gt;140558494216784 -->\n<g id=\"edge1\" class=\"edge\">\n<title>140558494216784*&#45;&gt;140558494216784</title>\n<path fill=\"none\" stroke=\"black\" d=\"M198.03,-45.5C206.08,-45.5 215.32,-45.5 224.74,-45.5\"/>\n<polygon fill=\"black\" stroke=\"black\" points=\"224.99,-49 234.99,-45.5 224.99,-42 224.99,-49\"/>\n</g>\n<!-- 140558511921808 -->\n<g id=\"node3\" class=\"node\">\n<title>140558511921808</title>\n<polygon fill=\"none\" stroke=\"black\" points=\"0,-55.5 0,-91.5 108,-91.5 108,-55.5 0,-55.5\"/>\n<text text-anchor=\"middle\" x=\"11.5\" y=\"-69.8\" font-family=\"Times,serif\" font-size=\"14.00\">b</text>\n<polyline fill=\"none\" stroke=\"black\" points=\"23,-55.5 23,-91.5 \"/>\n<text text-anchor=\"middle\" x=\"65.5\" y=\"-69.8\" font-family=\"Times,serif\" font-size=\"14.00\">data &#45;3.0000</text>\n</g>\n<!-- 140558511921808&#45;&gt;140558494216784* -->\n<g id=\"edge6\" class=\"edge\">\n<title>140558511921808&#45;&gt;140558494216784*</title>\n<path fill=\"none\" stroke=\"black\" d=\"M108.12,-60.57C117.51,-58.28 127.06,-55.95 135.76,-53.84\"/>\n<polygon fill=\"black\" stroke=\"black\" points=\"136.62,-57.23 145.51,-51.46 134.97,-50.43 136.62,-57.23\"/>\n</g>\n<!-- 140558494216400 -->\n<g id=\"node4\" class=\"node\">\n<title>140558494216400</title>\n<polygon fill=\"none\" stroke=\"black\" points=\"471.5,-54.5 471.5,-90.5 574.5,-90.5 574.5,-54.5 471.5,-54.5\"/>\n<text text-anchor=\"middle\" x=\"483\" y=\"-68.8\" font-family=\"Times,serif\" font-size=\"14.00\">d</text>\n<polyline fill=\"none\" stroke=\"black\" points=\"494.5,-54.5 494.5,-90.5 \"/>\n<text text-anchor=\"middle\" x=\"534.5\" y=\"-68.8\" font-family=\"Times,serif\" font-size=\"14.00\">data 4.0000</text>\n</g>\n<!-- 140558494218080* -->\n<g id=\"node9\" class=\"node\">\n<title>140558494218080*</title>\n<ellipse fill=\"none\" stroke=\"black\" cx=\"639\" cy=\"-99.5\" rx=\"27\" ry=\"18\"/>\n<text text-anchor=\"middle\" x=\"639\" y=\"-95.8\" font-family=\"Times,serif\" font-size=\"14.00\">*</text>\n</g>\n<!-- 140558494216400&#45;&gt;140558494218080* -->\n<g id=\"edge5\" class=\"edge\">\n<title>140558494216400&#45;&gt;140558494218080*</title>\n<path fill=\"none\" stroke=\"black\" d=\"M574.67,-84.5C584.43,-86.81 594.45,-89.18 603.55,-91.34\"/>\n<polygon fill=\"black\" stroke=\"black\" points=\"602.83,-94.77 613.37,-93.67 604.45,-87.96 602.83,-94.77\"/>\n</g>\n<!-- 140558494216400+&#45;&gt;140558494216400 -->\n<g id=\"edge2\" class=\"edge\">\n<title>140558494216400+&#45;&gt;140558494216400</title>\n<path fill=\"none\" stroke=\"black\" d=\"M434.15,-72.5C442.26,-72.5 451.57,-72.5 461.02,-72.5\"/>\n<polygon fill=\"black\" stroke=\"black\" points=\"461.28,-76 471.28,-72.5 461.28,-69 461.28,-76\"/>\n</g>\n<!-- 140558494218992 -->\n<g id=\"node6\" class=\"node\">\n<title>140558494218992</title>\n<polygon fill=\"none\" stroke=\"black\" points=\"470,-109.5 470,-145.5 576,-145.5 576,-109.5 470,-109.5\"/>\n<text text-anchor=\"middle\" x=\"480.5\" y=\"-123.8\" font-family=\"Times,serif\" font-size=\"14.00\">f</text>\n<polyline fill=\"none\" stroke=\"black\" points=\"491,-109.5 491,-145.5 \"/>\n<text text-anchor=\"middle\" x=\"533.5\" y=\"-123.8\" font-family=\"Times,serif\" font-size=\"14.00\">data &#45;2.0000</text>\n</g>\n<!-- 140558494218992&#45;&gt;140558494218080* -->\n<g id=\"edge4\" class=\"edge\">\n<title>140558494218992&#45;&gt;140558494218080*</title>\n<path fill=\"none\" stroke=\"black\" d=\"M576.33,-114.65C585.48,-112.4 594.8,-110.11 603.33,-108.02\"/>\n<polygon fill=\"black\" stroke=\"black\" points=\"604.39,-111.36 613.27,-105.57 602.72,-104.56 604.39,-111.36\"/>\n</g>\n<!-- 140558511920416 -->\n<g id=\"node7\" class=\"node\">\n<title>140558511920416</title>\n<polygon fill=\"none\" stroke=\"black\" points=\"2.5,-0.5 2.5,-36.5 105.5,-36.5 105.5,-0.5 2.5,-0.5\"/>\n<text text-anchor=\"middle\" x=\"14\" y=\"-14.8\" font-family=\"Times,serif\" font-size=\"14.00\">a</text>\n<polyline fill=\"none\" stroke=\"black\" points=\"25.5,-0.5 25.5,-36.5 \"/>\n<text text-anchor=\"middle\" x=\"65.5\" y=\"-14.8\" font-family=\"Times,serif\" font-size=\"14.00\">data 2.0000</text>\n</g>\n<!-- 140558511920416&#45;&gt;140558494216784* -->\n<g id=\"edge9\" class=\"edge\">\n<title>140558511920416&#45;&gt;140558494216784*</title>\n<path fill=\"none\" stroke=\"black\" d=\"M105.78,-30.42C115.74,-32.76 125.98,-35.17 135.28,-37.35\"/>\n<polygon fill=\"black\" stroke=\"black\" points=\"134.77,-40.82 145.3,-39.7 136.37,-34.01 134.77,-40.82\"/>\n</g>\n<!-- 140558494218080 -->\n<g id=\"node8\" class=\"node\">\n<title>140558494218080</title>\n<polygon fill=\"none\" stroke=\"black\" points=\"702,-81.5 702,-117.5 812,-117.5 812,-81.5 702,-81.5\"/>\n<text text-anchor=\"middle\" x=\"714.5\" y=\"-95.8\" font-family=\"Times,serif\" font-size=\"14.00\">L</text>\n<polyline fill=\"none\" stroke=\"black\" points=\"727,-81.5 727,-117.5 \"/>\n<text text-anchor=\"middle\" x=\"769.5\" y=\"-95.8\" font-family=\"Times,serif\" font-size=\"14.00\">data &#45;8.0000</text>\n</g>\n<!-- 140558494218080*&#45;&gt;140558494218080 -->\n<g id=\"edge3\" class=\"edge\">\n<title>140558494218080*&#45;&gt;140558494218080</title>\n<path fill=\"none\" stroke=\"black\" d=\"M666.03,-99.5C673.7,-99.5 682.45,-99.5 691.42,-99.5\"/>\n<polygon fill=\"black\" stroke=\"black\" points=\"691.58,-103 701.58,-99.5 691.58,-96 691.58,-103\"/>\n</g>\n<!-- 140558494218656 -->\n<g id=\"node10\" class=\"node\">\n<title>140558494218656</title>\n<polygon fill=\"none\" stroke=\"black\" points=\"234,-82.5 234,-118.5 344,-118.5 344,-82.5 234,-82.5\"/>\n<text text-anchor=\"middle\" x=\"245.5\" y=\"-96.8\" font-family=\"Times,serif\" font-size=\"14.00\">c</text>\n<polyline fill=\"none\" stroke=\"black\" points=\"257,-82.5 257,-118.5 \"/>\n<text text-anchor=\"middle\" x=\"300.5\" y=\"-96.8\" font-family=\"Times,serif\" font-size=\"14.00\">data 10.0000</text>\n</g>\n<!-- 140558494218656&#45;&gt;140558494216400+ -->\n<g id=\"edge8\" class=\"edge\">\n<title>140558494218656&#45;&gt;140558494216400+</title>\n<path fill=\"none\" stroke=\"black\" d=\"M344.26,-87.4C353.49,-85.18 362.84,-82.92 371.37,-80.86\"/>\n<polygon fill=\"black\" stroke=\"black\" points=\"372.42,-84.21 381.32,-78.46 370.78,-77.4 372.42,-84.21\"/>\n</g>\n</g>\n</svg>\n"
          },
          "metadata": {},
          "execution_count": 17
        }
      ]
    },
    {
      "cell_type": "code",
      "source": [
        "#Modifying Value to store the derev\n",
        "class Value:\n",
        "  def __init__(self, data, _children = (), _op='', label = ''):\n",
        "    self.data = data\n",
        "    self._prev = set(_children)\n",
        "    self._op = _op\n",
        "    self.label = label\n",
        "    self.grad = 0\n",
        "\n",
        "  def __repr__(self):\n",
        "    return f\"Value(data={self.data})\"\n",
        "\n",
        "  def __add__(self, other):\n",
        "    return Value(self.data + other.data, (self, other), \"+\")\n",
        "\n",
        "  def __mul__(self, other):\n",
        "    return Value(self.data * other.data, (self, other), \"*\") \n"
      ],
      "metadata": {
        "id": "JO1ZC_WIoIkg"
      },
      "execution_count": 18,
      "outputs": []
    },
    {
      "cell_type": "code",
      "source": [
        "#changing the chart libraries to show the derivative---------------------------------------------\n",
        "\n",
        "from graphviz import Digraph\n",
        "\n",
        "def trace(root):\n",
        "  # builds a set of all nodes and edges in a graph\n",
        "  nodes, edges = set(), set()\n",
        "  def build(v):\n",
        "    if v not in nodes:\n",
        "      nodes.add(v)\n",
        "      for child in v._prev:\n",
        "        edges.add((child, v))\n",
        "        build(child)\n",
        "  build(root)\n",
        "  return nodes, edges\n",
        "\n",
        "def draw_dot(root):\n",
        "  dot = Digraph(format='svg', graph_attr={'rankdir': 'LR'}) # LR = left to right\n",
        "  \n",
        "  nodes, edges = trace(root)\n",
        "  for n in nodes:\n",
        "    uid = str(id(n))\n",
        "    # for any value in the graph, create a rectangular ('record') node for it\n",
        "    dot.node(name = uid, label = \"{ %s | data %.4f | grad %.4f }\" % (n.label, n.data,n.grad), shape='record')\n",
        "    if n._op:\n",
        "      # if this value is a result of some operation, create an op node for it\n",
        "      dot.node(name = uid + n._op, label = n._op)\n",
        "      # and connect this node to it\n",
        "      dot.edge(uid + n._op, uid)\n",
        "\n",
        "  for n1, n2 in edges:\n",
        "    # connect n1 to the op node of n2\n",
        "    dot.edge(str(id(n1)), str(id(n2)) + n2._op)\n",
        "\n",
        "  return dot\n",
        "\n",
        "#-----------------------------------------------------------------------------------------------------------------------------------"
      ],
      "metadata": {
        "id": "MPasLdw-uHd4"
      },
      "execution_count": 19,
      "outputs": []
    },
    {
      "cell_type": "code",
      "source": [
        "a = Value(2.0, label = 'a')\n",
        "b = Value(-3.0, label = 'b')\n",
        "c = Value(10.0, label = 'c')\n",
        "e = a*b; e.label = 'e'\n",
        "d = e + c; d.label = 'd'\n",
        "f = Value(-2.0, label = 'f')\n",
        "L = d* f\n",
        "L\n",
        "\n",
        "L.grad = 1.0\n",
        "d.grad = -2\n",
        "f.grad = 4\n",
        "\n",
        "\n",
        "d = e + c\n",
        "L.label = 'L'"
      ],
      "metadata": {
        "id": "6aSPh6aruakQ"
      },
      "execution_count": 20,
      "outputs": []
    },
    {
      "cell_type": "code",
      "source": [
        "draw_dot(L)"
      ],
      "metadata": {
        "colab": {
          "base_uri": "https://localhost:8080/",
          "height": 249
        },
        "id": "1ZK2JdcUvLj-",
        "outputId": "d8d88cb9-31a1-4654-ab27-d170bfe17f05"
      },
      "execution_count": 21,
      "outputs": [
        {
          "output_type": "execute_result",
          "data": {
            "text/plain": [
              "<graphviz.dot.Digraph at 0x7fd6531e0490>"
            ],
            "image/svg+xml": "<?xml version=\"1.0\" encoding=\"UTF-8\" standalone=\"no\"?>\n<!DOCTYPE svg PUBLIC \"-//W3C//DTD SVG 1.1//EN\"\n \"http://www.w3.org/Graphics/SVG/1.1/DTD/svg11.dtd\">\n<!-- Generated by graphviz version 2.43.0 (0)\n -->\n<!-- Title: %3 Pages: 1 -->\n<svg width=\"1149pt\" height=\"156pt\"\n viewBox=\"0.00 0.00 1149.00 156.00\" xmlns=\"http://www.w3.org/2000/svg\" xmlns:xlink=\"http://www.w3.org/1999/xlink\">\n<g id=\"graph0\" class=\"graph\" transform=\"scale(1 1) rotate(0) translate(4 152)\">\n<title>%3</title>\n<polygon fill=\"white\" stroke=\"transparent\" points=\"-4,4 -4,-152 1145,-152 1145,4 -4,4\"/>\n<!-- 140558489420320 -->\n<g id=\"node1\" class=\"node\">\n<title>140558489420320</title>\n<polygon fill=\"none\" stroke=\"black\" points=\"2.5,-111.5 2.5,-147.5 187.5,-147.5 187.5,-111.5 2.5,-111.5\"/>\n<text text-anchor=\"middle\" x=\"14\" y=\"-125.8\" font-family=\"Times,serif\" font-size=\"14.00\">a</text>\n<polyline fill=\"none\" stroke=\"black\" points=\"25.5,-111.5 25.5,-147.5 \"/>\n<text text-anchor=\"middle\" x=\"65.5\" y=\"-125.8\" font-family=\"Times,serif\" font-size=\"14.00\">data 2.0000</text>\n<polyline fill=\"none\" stroke=\"black\" points=\"105.5,-111.5 105.5,-147.5 \"/>\n<text text-anchor=\"middle\" x=\"146.5\" y=\"-125.8\" font-family=\"Times,serif\" font-size=\"14.00\">grad 0.0000</text>\n</g>\n<!-- 140558489420608* -->\n<g id=\"node8\" class=\"node\">\n<title>140558489420608*</title>\n<ellipse fill=\"none\" stroke=\"black\" cx=\"253\" cy=\"-101.5\" rx=\"27\" ry=\"18\"/>\n<text text-anchor=\"middle\" x=\"253\" y=\"-97.8\" font-family=\"Times,serif\" font-size=\"14.00\">*</text>\n</g>\n<!-- 140558489420320&#45;&gt;140558489420608* -->\n<g id=\"edge6\" class=\"edge\">\n<title>140558489420320&#45;&gt;140558489420608*</title>\n<path fill=\"none\" stroke=\"black\" d=\"M187.65,-113.05C197.94,-111.2 207.91,-109.41 216.81,-107.82\"/>\n<polygon fill=\"black\" stroke=\"black\" points=\"217.48,-111.25 226.71,-106.04 216.25,-104.36 217.48,-111.25\"/>\n</g>\n<!-- 140558489419888 -->\n<g id=\"node2\" class=\"node\">\n<title>140558489419888</title>\n<polygon fill=\"none\" stroke=\"black\" points=\"0,-56.5 0,-92.5 190,-92.5 190,-56.5 0,-56.5\"/>\n<text text-anchor=\"middle\" x=\"11.5\" y=\"-70.8\" font-family=\"Times,serif\" font-size=\"14.00\">b</text>\n<polyline fill=\"none\" stroke=\"black\" points=\"23,-56.5 23,-92.5 \"/>\n<text text-anchor=\"middle\" x=\"65.5\" y=\"-70.8\" font-family=\"Times,serif\" font-size=\"14.00\">data &#45;3.0000</text>\n<polyline fill=\"none\" stroke=\"black\" points=\"108,-56.5 108,-92.5 \"/>\n<text text-anchor=\"middle\" x=\"149\" y=\"-70.8\" font-family=\"Times,serif\" font-size=\"14.00\">grad 0.0000</text>\n</g>\n<!-- 140558489419888&#45;&gt;140558489420608* -->\n<g id=\"edge8\" class=\"edge\">\n<title>140558489419888&#45;&gt;140558489420608*</title>\n<path fill=\"none\" stroke=\"black\" d=\"M190.34,-90.83C199.62,-92.44 208.58,-93.99 216.66,-95.38\"/>\n<polygon fill=\"black\" stroke=\"black\" points=\"216.27,-98.87 226.72,-97.12 217.46,-91.97 216.27,-98.87\"/>\n</g>\n<!-- 140558489420464 -->\n<g id=\"node3\" class=\"node\">\n<title>140558489420464</title>\n<polygon fill=\"none\" stroke=\"black\" points=\"316,-28.5 316,-64.5 508,-64.5 508,-28.5 316,-28.5\"/>\n<text text-anchor=\"middle\" x=\"327.5\" y=\"-42.8\" font-family=\"Times,serif\" font-size=\"14.00\">c</text>\n<polyline fill=\"none\" stroke=\"black\" points=\"339,-28.5 339,-64.5 \"/>\n<text text-anchor=\"middle\" x=\"382.5\" y=\"-42.8\" font-family=\"Times,serif\" font-size=\"14.00\">data 10.0000</text>\n<polyline fill=\"none\" stroke=\"black\" points=\"426,-28.5 426,-64.5 \"/>\n<text text-anchor=\"middle\" x=\"467\" y=\"-42.8\" font-family=\"Times,serif\" font-size=\"14.00\">grad 0.0000</text>\n</g>\n<!-- 140558489421280+ -->\n<g id=\"node10\" class=\"node\">\n<title>140558489421280+</title>\n<ellipse fill=\"none\" stroke=\"black\" cx=\"571\" cy=\"-73.5\" rx=\"27\" ry=\"18\"/>\n<text text-anchor=\"middle\" x=\"571\" y=\"-69.8\" font-family=\"Times,serif\" font-size=\"14.00\">+</text>\n</g>\n<!-- 140558489420464&#45;&gt;140558489421280+ -->\n<g id=\"edge5\" class=\"edge\">\n<title>140558489420464&#45;&gt;140558489421280+</title>\n<path fill=\"none\" stroke=\"black\" d=\"M508.4,-62.91C517.69,-64.5 526.64,-66.04 534.71,-67.43\"/>\n<polygon fill=\"black\" stroke=\"black\" points=\"534.32,-70.91 544.76,-69.16 535.5,-64.02 534.32,-70.91\"/>\n</g>\n<!-- 140558489421568 -->\n<g id=\"node4\" class=\"node\">\n<title>140558489421568</title>\n<polygon fill=\"none\" stroke=\"black\" points=\"634.5,-0.5 634.5,-36.5 822.5,-36.5 822.5,-0.5 634.5,-0.5\"/>\n<text text-anchor=\"middle\" x=\"645\" y=\"-14.8\" font-family=\"Times,serif\" font-size=\"14.00\">f</text>\n<polyline fill=\"none\" stroke=\"black\" points=\"655.5,-0.5 655.5,-36.5 \"/>\n<text text-anchor=\"middle\" x=\"698\" y=\"-14.8\" font-family=\"Times,serif\" font-size=\"14.00\">data &#45;2.0000</text>\n<polyline fill=\"none\" stroke=\"black\" points=\"740.5,-0.5 740.5,-36.5 \"/>\n<text text-anchor=\"middle\" x=\"781.5\" y=\"-14.8\" font-family=\"Times,serif\" font-size=\"14.00\">grad 4.0000</text>\n</g>\n<!-- 140558489421088* -->\n<g id=\"node6\" class=\"node\">\n<title>140558489421088*</title>\n<ellipse fill=\"none\" stroke=\"black\" cx=\"886\" cy=\"-45.5\" rx=\"27\" ry=\"18\"/>\n<text text-anchor=\"middle\" x=\"886\" y=\"-41.8\" font-family=\"Times,serif\" font-size=\"14.00\">*</text>\n</g>\n<!-- 140558489421568&#45;&gt;140558489421088* -->\n<g id=\"edge9\" class=\"edge\">\n<title>140558489421568&#45;&gt;140558489421088*</title>\n<path fill=\"none\" stroke=\"black\" d=\"M822.65,-34.67C832.2,-36.33 841.43,-37.93 849.72,-39.37\"/>\n<polygon fill=\"black\" stroke=\"black\" points=\"849.24,-42.84 859.69,-41.11 850.44,-35.95 849.24,-42.84\"/>\n</g>\n<!-- 140558489421088 -->\n<g id=\"node5\" class=\"node\">\n<title>140558489421088</title>\n<polygon fill=\"none\" stroke=\"black\" points=\"949,-27.5 949,-63.5 1141,-63.5 1141,-27.5 949,-27.5\"/>\n<text text-anchor=\"middle\" x=\"961.5\" y=\"-41.8\" font-family=\"Times,serif\" font-size=\"14.00\">L</text>\n<polyline fill=\"none\" stroke=\"black\" points=\"974,-27.5 974,-63.5 \"/>\n<text text-anchor=\"middle\" x=\"1016.5\" y=\"-41.8\" font-family=\"Times,serif\" font-size=\"14.00\">data &#45;8.0000</text>\n<polyline fill=\"none\" stroke=\"black\" points=\"1059,-27.5 1059,-63.5 \"/>\n<text text-anchor=\"middle\" x=\"1100\" y=\"-41.8\" font-family=\"Times,serif\" font-size=\"14.00\">grad 1.0000</text>\n</g>\n<!-- 140558489421088*&#45;&gt;140558489421088 -->\n<g id=\"edge1\" class=\"edge\">\n<title>140558489421088*&#45;&gt;140558489421088</title>\n<path fill=\"none\" stroke=\"black\" d=\"M913.28,-45.5C920.78,-45.5 929.44,-45.5 938.67,-45.5\"/>\n<polygon fill=\"black\" stroke=\"black\" points=\"938.87,-49 948.87,-45.5 938.87,-42 938.87,-49\"/>\n</g>\n<!-- 140558489420608 -->\n<g id=\"node7\" class=\"node\">\n<title>140558489420608</title>\n<polygon fill=\"none\" stroke=\"black\" points=\"317,-83.5 317,-119.5 507,-119.5 507,-83.5 317,-83.5\"/>\n<text text-anchor=\"middle\" x=\"328.5\" y=\"-97.8\" font-family=\"Times,serif\" font-size=\"14.00\">e</text>\n<polyline fill=\"none\" stroke=\"black\" points=\"340,-83.5 340,-119.5 \"/>\n<text text-anchor=\"middle\" x=\"382.5\" y=\"-97.8\" font-family=\"Times,serif\" font-size=\"14.00\">data &#45;6.0000</text>\n<polyline fill=\"none\" stroke=\"black\" points=\"425,-83.5 425,-119.5 \"/>\n<text text-anchor=\"middle\" x=\"466\" y=\"-97.8\" font-family=\"Times,serif\" font-size=\"14.00\">grad 0.0000</text>\n</g>\n<!-- 140558489420608&#45;&gt;140558489421280+ -->\n<g id=\"edge7\" class=\"edge\">\n<title>140558489420608&#45;&gt;140558489421280+</title>\n<path fill=\"none\" stroke=\"black\" d=\"M507.05,-84.73C516.89,-82.97 526.39,-81.28 534.9,-79.76\"/>\n<polygon fill=\"black\" stroke=\"black\" points=\"535.52,-83.2 544.75,-78 534.29,-76.31 535.52,-83.2\"/>\n</g>\n<!-- 140558489420608*&#45;&gt;140558489420608 -->\n<g id=\"edge2\" class=\"edge\">\n<title>140558489420608*&#45;&gt;140558489420608</title>\n<path fill=\"none\" stroke=\"black\" d=\"M280.28,-101.5C288.05,-101.5 297.08,-101.5 306.68,-101.5\"/>\n<polygon fill=\"black\" stroke=\"black\" points=\"306.88,-105 316.88,-101.5 306.88,-98 306.88,-105\"/>\n</g>\n<!-- 140558489421280 -->\n<g id=\"node9\" class=\"node\">\n<title>140558489421280</title>\n<polygon fill=\"none\" stroke=\"black\" points=\"634,-55.5 634,-91.5 823,-91.5 823,-55.5 634,-55.5\"/>\n<text text-anchor=\"middle\" x=\"645.5\" y=\"-69.8\" font-family=\"Times,serif\" font-size=\"14.00\">d</text>\n<polyline fill=\"none\" stroke=\"black\" points=\"657,-55.5 657,-91.5 \"/>\n<text text-anchor=\"middle\" x=\"697\" y=\"-69.8\" font-family=\"Times,serif\" font-size=\"14.00\">data 4.0000</text>\n<polyline fill=\"none\" stroke=\"black\" points=\"737,-55.5 737,-91.5 \"/>\n<text text-anchor=\"middle\" x=\"780\" y=\"-69.8\" font-family=\"Times,serif\" font-size=\"14.00\">grad &#45;2.0000</text>\n</g>\n<!-- 140558489421280&#45;&gt;140558489421088* -->\n<g id=\"edge4\" class=\"edge\">\n<title>140558489421280&#45;&gt;140558489421088*</title>\n<path fill=\"none\" stroke=\"black\" d=\"M823.1,-56.65C832.4,-54.97 841.38,-53.35 849.49,-51.89\"/>\n<polygon fill=\"black\" stroke=\"black\" points=\"850.37,-55.29 859.59,-50.07 849.13,-48.4 850.37,-55.29\"/>\n</g>\n<!-- 140558489421280+&#45;&gt;140558489421280 -->\n<g id=\"edge3\" class=\"edge\">\n<title>140558489421280+&#45;&gt;140558489421280</title>\n<path fill=\"none\" stroke=\"black\" d=\"M598.03,-73.5C605.66,-73.5 614.52,-73.5 623.94,-73.5\"/>\n<polygon fill=\"black\" stroke=\"black\" points=\"623.94,-77 633.94,-73.5 623.94,-70 623.94,-77\"/>\n</g>\n</g>\n</svg>\n"
          },
          "metadata": {},
          "execution_count": 21
        }
      ]
    },
    {
      "cell_type": "code",
      "source": [
        "\"\"\"\n",
        "dL/df\n",
        "\n",
        "L = d * f\n",
        "dL/df = dd/df * 1\n",
        "\n",
        "L1 = d*(f+h) \n",
        "(L1 - L) / h\n",
        "(d(f+h) - d*f) / h\n",
        "(df + dh - df) / h \n",
        "dh / h\n",
        "d\n",
        "\"\"\"\n",
        "\n",
        "def lol():\n",
        "  h = 0.000001\n",
        "\n",
        "  a = Value(2.0, label = 'a')\n",
        "  b = Value(-3.0, label = 'b')\n",
        "  c = Value(10.0, label = 'c')\n",
        "  e = a*b; e.label = 'e'\n",
        "  d = e + c; d.label = 'd'\n",
        "  f = Value(-2.0, label = 'f')\n",
        "  L = d* f\n",
        "  L1 = L.data \n",
        "\n",
        "  a = Value(2.0, label = 'a')\n",
        "  b = Value(-3.0, label = 'b')\n",
        "  c = Value(10.0, label = 'c')\n",
        "  e = a*b; e.label = 'e'\n",
        "  d = e + c; d.label = 'd'\n",
        "  d.data += h\n",
        "  f = Value(-2.0, label = 'f')\n",
        "  L = d* f\n",
        "  L2 = L.data\n",
        "\n",
        "  print(\"L1=\", L1, \"L2=\", L2 )\n",
        "\n",
        "  print(\"gard\", (L2-L1)/h) #L2 = L1 + h\n",
        "  \n",
        "lol()"
      ],
      "metadata": {
        "id": "C4qIbLBivU8j",
        "colab": {
          "base_uri": "https://localhost:8080/"
        },
        "outputId": "b2d9b6d2-3e30-4ce1-ed65-c29e60e7c591"
      },
      "execution_count": 22,
      "outputs": [
        {
          "output_type": "stream",
          "name": "stdout",
          "text": [
            "L1= -8.0 L2= -8.000002\n",
            "gard -2.000000000279556\n"
          ]
        }
      ]
    },
    {
      "cell_type": "markdown",
      "source": [
        "Chain Rule : https://en.wikipedia.org/wiki/Chain_rule"
      ],
      "metadata": {
        "id": "mMFjf0dctiGq"
      }
    },
    {
      "cell_type": "markdown",
      "source": [
        "![image.png](data:image/png;base64,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)"
      ],
      "metadata": {
        "id": "CEz9YMsst_pX"
      }
    },
    {
      "cell_type": "markdown",
      "source": [
        "Tanh: https://en.wikipedia.org/wiki/Hyperbolic_functions"
      ],
      "metadata": {
        "id": "N2azDppK2Cm3"
      }
    },
    {
      "cell_type": "code",
      "source": [
        "plt.plot(np.arange(-5,5,0.2), np.tanh(np.arange(-5,5,0.2))); \n",
        "plt.grid();"
      ],
      "metadata": {
        "colab": {
          "base_uri": "https://localhost:8080/",
          "height": 265
        },
        "id": "YgXuuNrZt-sW",
        "outputId": "68771a63-b15b-4cc1-ee17-5272ba350efe"
      },
      "execution_count": 23,
      "outputs": [
        {
          "output_type": "display_data",
          "data": {
            "text/plain": [
              "<Figure size 432x288 with 1 Axes>"
            ],
            "image/png": "[encoded data removed]"
          },
          "metadata": {
            "needs_background": "light"
          }
        }
      ]
    },
    {
      "cell_type": "code",
      "source": [
        "#Modifying value function to add tanh\n",
        "class Value:\n",
        "  def __init__(self, data, _children = (), _op='', label = ''):\n",
        "    self.data = data\n",
        "    self._prev = set(_children)\n",
        "    self._op = _op\n",
        "    self.label = label\n",
        "    self.grad = 0\n",
        "\n",
        "  def __repr__(self):\n",
        "    return f\"Value(data={self.data})\"\n",
        "\n",
        "  def __add__(self, other):\n",
        "    return Value(self.data + other.data, (self, other), \"+\")\n",
        "\n",
        "  def __mul__(self, other):\n",
        "    return Value(self.data * other.data, (self, other), \"*\") \n",
        "\n",
        "  def tanh(self):\n",
        "    x = self.data\n",
        "    t = (math.exp(2*x) - 1)/(math.exp(2*x) + 1)\n",
        "    out = Value(t, (self, ), 'tanh')\n",
        "    return out"
      ],
      "metadata": {
        "id": "Tpt8KkzN2ACW"
      },
      "execution_count": 24,
      "outputs": []
    },
    {
      "cell_type": "code",
      "source": [
        "# inputs x1,x2\n",
        "x1 = Value(2.0, label='x1')\n",
        "x2 = Value(0.0, label='x2')\n",
        "# weights w1,w2\n",
        "w1 = Value(-3.0, label='w1')\n",
        "w2 = Value(1.0, label='w2')\n",
        "# bias of the neuron\n",
        "b = Value(6.8813735870195432, label='b')\n",
        "# x1*w1 + x2*w2 + b\n",
        "x1w1 = x1*w1; x1w1.label = 'x1*w1'\n",
        "x2w2 = x2*w2; x2w2.label = 'x2*w2'\n",
        "x1w1x2w2 = x1w1 + x2w2; x1w1x2w2.label = 'x1*w1 + x2*w2'\n",
        "n = x1w1x2w2 + b; n.label = 'n'\n",
        "o = n.tanh(); o.label = 'o'"
      ],
      "metadata": {
        "id": "y50VmXIk2jC5"
      },
      "execution_count": 25,
      "outputs": []
    },
    {
      "cell_type": "code",
      "source": [
        "draw_dot(o)"
      ],
      "metadata": {
        "colab": {
          "base_uri": "https://localhost:8080/",
          "height": 321
        },
        "id": "GXaDpd4Z23yq",
        "outputId": "f487f41c-1f4f-4e0d-adab-9b8c5aa01f29"
      },
      "execution_count": 43,
      "outputs": [
        {
          "output_type": "execute_result",
          "data": {
            "text/plain": [
              "<graphviz.dot.Digraph at 0x7fd6531e03d0>"
            ],
            "image/svg+xml": "<?xml version=\"1.0\" encoding=\"UTF-8\" standalone=\"no\"?>\n<!DOCTYPE svg PUBLIC \"-//W3C//DTD SVG 1.1//EN\"\n \"http://www.w3.org/Graphics/SVG/1.1/DTD/svg11.dtd\">\n<!-- Generated by graphviz version 2.43.0 (0)\n -->\n<!-- Title: %3 Pages: 1 -->\n<svg width=\"1575pt\" height=\"210pt\"\n viewBox=\"0.00 0.00 1575.00 210.00\" xmlns=\"http://www.w3.org/2000/svg\" xmlns:xlink=\"http://www.w3.org/1999/xlink\">\n<g id=\"graph0\" class=\"graph\" transform=\"scale(1 1) rotate(0) translate(4 206)\">\n<title>%3</title>\n<polygon fill=\"white\" stroke=\"transparent\" points=\"-4,4 -4,-206 1571,-206 1571,4 -4,4\"/>\n<!-- 140558488881568 -->\n<g id=\"node1\" class=\"node\">\n<title>140558488881568</title>\n<polygon fill=\"none\" stroke=\"black\" points=\"0,-165.5 0,-201.5 200,-201.5 200,-165.5 0,-165.5\"/>\n<text text-anchor=\"middle\" x=\"16.5\" y=\"-179.8\" font-family=\"Times,serif\" font-size=\"14.00\">w1</text>\n<polyline fill=\"none\" stroke=\"black\" points=\"33,-165.5 33,-201.5 \"/>\n<text text-anchor=\"middle\" x=\"75.5\" y=\"-179.8\" font-family=\"Times,serif\" font-size=\"14.00\">data &#45;3.0000</text>\n<polyline fill=\"none\" stroke=\"black\" points=\"118,-165.5 118,-201.5 \"/>\n<text text-anchor=\"middle\" x=\"159\" y=\"-179.8\" font-family=\"Times,serif\" font-size=\"14.00\">grad 1.0000</text>\n</g>\n<!-- 140558488880368* -->\n<g id=\"node4\" class=\"node\">\n<title>140558488880368*</title>\n<ellipse fill=\"none\" stroke=\"black\" cx=\"263\" cy=\"-128.5\" rx=\"27\" ry=\"18\"/>\n<text text-anchor=\"middle\" x=\"263\" y=\"-124.8\" font-family=\"Times,serif\" font-size=\"14.00\">*</text>\n</g>\n<!-- 140558488881568&#45;&gt;140558488880368* -->\n<g id=\"edge14\" class=\"edge\">\n<title>140558488881568&#45;&gt;140558488880368*</title>\n<path fill=\"none\" stroke=\"black\" d=\"M172.53,-165.44C181.84,-162.67 191.2,-159.67 200,-156.5 210.53,-152.71 221.75,-147.9 231.72,-143.33\"/>\n<polygon fill=\"black\" stroke=\"black\" points=\"233.25,-146.48 240.82,-139.07 230.28,-140.14 233.25,-146.48\"/>\n</g>\n<!-- 140558488880800 -->\n<g id=\"node2\" class=\"node\">\n<title>140558488880800</title>\n<polygon fill=\"none\" stroke=\"black\" points=\"2,-55.5 2,-91.5 198,-91.5 198,-55.5 2,-55.5\"/>\n<text text-anchor=\"middle\" x=\"17\" y=\"-69.8\" font-family=\"Times,serif\" font-size=\"14.00\">x2</text>\n<polyline fill=\"none\" stroke=\"black\" points=\"32,-55.5 32,-91.5 \"/>\n<text text-anchor=\"middle\" x=\"72\" y=\"-69.8\" font-family=\"Times,serif\" font-size=\"14.00\">data 0.0000</text>\n<polyline fill=\"none\" stroke=\"black\" points=\"112,-55.5 112,-91.5 \"/>\n<text text-anchor=\"middle\" x=\"155\" y=\"-69.8\" font-family=\"Times,serif\" font-size=\"14.00\">grad &#45;1.5000</text>\n</g>\n<!-- 140558488879408* -->\n<g id=\"node8\" class=\"node\">\n<title>140558488879408*</title>\n<ellipse fill=\"none\" stroke=\"black\" cx=\"263\" cy=\"-73.5\" rx=\"27\" ry=\"18\"/>\n<text text-anchor=\"middle\" x=\"263\" y=\"-69.8\" font-family=\"Times,serif\" font-size=\"14.00\">*</text>\n</g>\n<!-- 140558488880800&#45;&gt;140558488879408* -->\n<g id=\"edge7\" class=\"edge\">\n<title>140558488880800&#45;&gt;140558488879408*</title>\n<path fill=\"none\" stroke=\"black\" d=\"M198.37,-73.5C208.05,-73.5 217.4,-73.5 225.8,-73.5\"/>\n<polygon fill=\"black\" stroke=\"black\" points=\"225.91,-77 235.91,-73.5 225.91,-70 225.91,-77\"/>\n</g>\n<!-- 140558488880368 -->\n<g id=\"node3\" class=\"node\">\n<title>140558488880368</title>\n<polygon fill=\"none\" stroke=\"black\" points=\"326,-110.5 326,-146.5 546,-146.5 546,-110.5 326,-110.5\"/>\n<text text-anchor=\"middle\" x=\"352.5\" y=\"-124.8\" font-family=\"Times,serif\" font-size=\"14.00\">x1*w1</text>\n<polyline fill=\"none\" stroke=\"black\" points=\"379,-110.5 379,-146.5 \"/>\n<text text-anchor=\"middle\" x=\"421.5\" y=\"-124.8\" font-family=\"Times,serif\" font-size=\"14.00\">data &#45;6.0000</text>\n<polyline fill=\"none\" stroke=\"black\" points=\"464,-110.5 464,-146.5 \"/>\n<text text-anchor=\"middle\" x=\"505\" y=\"-124.8\" font-family=\"Times,serif\" font-size=\"14.00\">grad 0.5000</text>\n</g>\n<!-- 140558488879552+ -->\n<g id=\"node14\" class=\"node\">\n<title>140558488879552+</title>\n<ellipse fill=\"none\" stroke=\"black\" cx=\"609\" cy=\"-100.5\" rx=\"27\" ry=\"18\"/>\n<text text-anchor=\"middle\" x=\"609\" y=\"-96.8\" font-family=\"Times,serif\" font-size=\"14.00\">+</text>\n</g>\n<!-- 140558488880368&#45;&gt;140558488879552+ -->\n<g id=\"edge11\" class=\"edge\">\n<title>140558488880368&#45;&gt;140558488879552+</title>\n<path fill=\"none\" stroke=\"black\" d=\"M546.27,-110.61C555.64,-109.07 564.6,-107.61 572.65,-106.29\"/>\n<polygon fill=\"black\" stroke=\"black\" points=\"573.35,-109.72 582.65,-104.65 572.22,-102.81 573.35,-109.72\"/>\n</g>\n<!-- 140558488880368*&#45;&gt;140558488880368 -->\n<g id=\"edge1\" class=\"edge\">\n<title>140558488880368*&#45;&gt;140558488880368</title>\n<path fill=\"none\" stroke=\"black\" d=\"M290.34,-128.5C297.77,-128.5 306.37,-128.5 315.6,-128.5\"/>\n<polygon fill=\"black\" stroke=\"black\" points=\"315.84,-132 325.84,-128.5 315.84,-125 315.84,-132\"/>\n</g>\n<!-- 140558488880896 -->\n<g id=\"node5\" class=\"node\">\n<title>140558488880896</title>\n<polygon fill=\"none\" stroke=\"black\" points=\"1382,-54.5 1382,-90.5 1567,-90.5 1567,-54.5 1382,-54.5\"/>\n<text text-anchor=\"middle\" x=\"1393.5\" y=\"-68.8\" font-family=\"Times,serif\" font-size=\"14.00\">o</text>\n<polyline fill=\"none\" stroke=\"black\" points=\"1405,-54.5 1405,-90.5 \"/>\n<text text-anchor=\"middle\" x=\"1445\" y=\"-68.8\" font-family=\"Times,serif\" font-size=\"14.00\">data 0.7071</text>\n<polyline fill=\"none\" stroke=\"black\" points=\"1485,-54.5 1485,-90.5 \"/>\n<text text-anchor=\"middle\" x=\"1526\" y=\"-68.8\" font-family=\"Times,serif\" font-size=\"14.00\">grad 1.0000</text>\n</g>\n<!-- 140558488880896tanh -->\n<g id=\"node6\" class=\"node\">\n<title>140558488880896tanh</title>\n<ellipse fill=\"none\" stroke=\"black\" cx=\"1319\" cy=\"-72.5\" rx=\"27\" ry=\"18\"/>\n<text text-anchor=\"middle\" x=\"1319\" y=\"-68.8\" font-family=\"Times,serif\" font-size=\"14.00\">tanh</text>\n</g>\n<!-- 140558488880896tanh&#45;&gt;140558488880896 -->\n<g id=\"edge2\" class=\"edge\">\n<title>140558488880896tanh&#45;&gt;140558488880896</title>\n<path fill=\"none\" stroke=\"black\" d=\"M1346.04,-72.5C1353.58,-72.5 1362.3,-72.5 1371.57,-72.5\"/>\n<polygon fill=\"black\" stroke=\"black\" points=\"1371.81,-76 1381.81,-72.5 1371.81,-69 1371.81,-76\"/>\n</g>\n<!-- 140558488879408 -->\n<g id=\"node7\" class=\"node\">\n<title>140558488879408</title>\n<polygon fill=\"none\" stroke=\"black\" points=\"328.5,-55.5 328.5,-91.5 543.5,-91.5 543.5,-55.5 328.5,-55.5\"/>\n<text text-anchor=\"middle\" x=\"355\" y=\"-69.8\" font-family=\"Times,serif\" font-size=\"14.00\">x2*w2</text>\n<polyline fill=\"none\" stroke=\"black\" points=\"381.5,-55.5 381.5,-91.5 \"/>\n<text text-anchor=\"middle\" x=\"421.5\" y=\"-69.8\" font-family=\"Times,serif\" font-size=\"14.00\">data 0.0000</text>\n<polyline fill=\"none\" stroke=\"black\" points=\"461.5,-55.5 461.5,-91.5 \"/>\n<text text-anchor=\"middle\" x=\"502.5\" y=\"-69.8\" font-family=\"Times,serif\" font-size=\"14.00\">grad 0.5000</text>\n</g>\n<!-- 140558488879408&#45;&gt;140558488879552+ -->\n<g id=\"edge10\" class=\"edge\">\n<title>140558488879408&#45;&gt;140558488879552+</title>\n<path fill=\"none\" stroke=\"black\" d=\"M543.84,-90.37C554.01,-91.98 563.76,-93.51 572.44,-94.89\"/>\n<polygon fill=\"black\" stroke=\"black\" points=\"572.05,-98.37 582.47,-96.47 573.14,-91.45 572.05,-98.37\"/>\n</g>\n<!-- 140558488879408*&#45;&gt;140558488879408 -->\n<g id=\"edge3\" class=\"edge\">\n<title>140558488879408*&#45;&gt;140558488879408</title>\n<path fill=\"none\" stroke=\"black\" d=\"M290.34,-73.5C298.51,-73.5 308.08,-73.5 318.36,-73.5\"/>\n<polygon fill=\"black\" stroke=\"black\" points=\"318.39,-77 328.39,-73.5 318.39,-70 318.39,-77\"/>\n</g>\n<!-- 140558488880464 -->\n<g id=\"node9\" class=\"node\">\n<title>140558488880464</title>\n<polygon fill=\"none\" stroke=\"black\" points=\"716,-27.5 716,-63.5 901,-63.5 901,-27.5 716,-27.5\"/>\n<text text-anchor=\"middle\" x=\"727.5\" y=\"-41.8\" font-family=\"Times,serif\" font-size=\"14.00\">b</text>\n<polyline fill=\"none\" stroke=\"black\" points=\"739,-27.5 739,-63.5 \"/>\n<text text-anchor=\"middle\" x=\"779\" y=\"-41.8\" font-family=\"Times,serif\" font-size=\"14.00\">data 6.8814</text>\n<polyline fill=\"none\" stroke=\"black\" points=\"819,-27.5 819,-63.5 \"/>\n<text text-anchor=\"middle\" x=\"860\" y=\"-41.8\" font-family=\"Times,serif\" font-size=\"14.00\">grad 0.5000</text>\n</g>\n<!-- 140558488880992+ -->\n<g id=\"node11\" class=\"node\">\n<title>140558488880992+</title>\n<ellipse fill=\"none\" stroke=\"black\" cx=\"1008\" cy=\"-72.5\" rx=\"27\" ry=\"18\"/>\n<text text-anchor=\"middle\" x=\"1008\" y=\"-68.8\" font-family=\"Times,serif\" font-size=\"14.00\">+</text>\n</g>\n<!-- 140558488880464&#45;&gt;140558488880992+ -->\n<g id=\"edge12\" class=\"edge\">\n<title>140558488880464&#45;&gt;140558488880992+</title>\n<path fill=\"none\" stroke=\"black\" d=\"M901.02,-58.01C926,-61.43 951.59,-64.93 971.37,-67.63\"/>\n<polygon fill=\"black\" stroke=\"black\" points=\"971.05,-71.12 981.43,-69.01 972,-64.18 971.05,-71.12\"/>\n</g>\n<!-- 140558488880992 -->\n<g id=\"node10\" class=\"node\">\n<title>140558488880992</title>\n<polygon fill=\"none\" stroke=\"black\" points=\"1071,-54.5 1071,-90.5 1256,-90.5 1256,-54.5 1071,-54.5\"/>\n<text text-anchor=\"middle\" x=\"1082.5\" y=\"-68.8\" font-family=\"Times,serif\" font-size=\"14.00\">n</text>\n<polyline fill=\"none\" stroke=\"black\" points=\"1094,-54.5 1094,-90.5 \"/>\n<text text-anchor=\"middle\" x=\"1134\" y=\"-68.8\" font-family=\"Times,serif\" font-size=\"14.00\">data 0.8814</text>\n<polyline fill=\"none\" stroke=\"black\" points=\"1174,-54.5 1174,-90.5 \"/>\n<text text-anchor=\"middle\" x=\"1215\" y=\"-68.8\" font-family=\"Times,serif\" font-size=\"14.00\">grad 0.5000</text>\n</g>\n<!-- 140558488880992&#45;&gt;140558488880896tanh -->\n<g id=\"edge8\" class=\"edge\">\n<title>140558488880992&#45;&gt;140558488880896tanh</title>\n<path fill=\"none\" stroke=\"black\" d=\"M1256.01,-72.5C1265.01,-72.5 1273.74,-72.5 1281.66,-72.5\"/>\n<polygon fill=\"black\" stroke=\"black\" points=\"1281.91,-76 1291.91,-72.5 1281.91,-69 1281.91,-76\"/>\n</g>\n<!-- 140558488880992+&#45;&gt;140558488880992 -->\n<g id=\"edge4\" class=\"edge\">\n<title>140558488880992+&#45;&gt;140558488880992</title>\n<path fill=\"none\" stroke=\"black\" d=\"M1035.04,-72.5C1042.58,-72.5 1051.3,-72.5 1060.57,-72.5\"/>\n<polygon fill=\"black\" stroke=\"black\" points=\"1060.81,-76 1070.81,-72.5 1060.81,-69 1060.81,-76\"/>\n</g>\n<!-- 140558488880032 -->\n<g id=\"node12\" class=\"node\">\n<title>140558488880032</title>\n<polygon fill=\"none\" stroke=\"black\" points=\"2,-110.5 2,-146.5 198,-146.5 198,-110.5 2,-110.5\"/>\n<text text-anchor=\"middle\" x=\"17\" y=\"-124.8\" font-family=\"Times,serif\" font-size=\"14.00\">x1</text>\n<polyline fill=\"none\" stroke=\"black\" points=\"32,-110.5 32,-146.5 \"/>\n<text text-anchor=\"middle\" x=\"72\" y=\"-124.8\" font-family=\"Times,serif\" font-size=\"14.00\">data 2.0000</text>\n<polyline fill=\"none\" stroke=\"black\" points=\"112,-110.5 112,-146.5 \"/>\n<text text-anchor=\"middle\" x=\"155\" y=\"-124.8\" font-family=\"Times,serif\" font-size=\"14.00\">grad &#45;1.5000</text>\n</g>\n<!-- 140558488880032&#45;&gt;140558488880368* -->\n<g id=\"edge13\" class=\"edge\">\n<title>140558488880032&#45;&gt;140558488880368*</title>\n<path fill=\"none\" stroke=\"black\" d=\"M198.37,-128.5C208.05,-128.5 217.4,-128.5 225.8,-128.5\"/>\n<polygon fill=\"black\" stroke=\"black\" points=\"225.91,-132 235.91,-128.5 225.91,-125 225.91,-132\"/>\n</g>\n<!-- 140558488879552 -->\n<g id=\"node13\" class=\"node\">\n<title>140558488879552</title>\n<polygon fill=\"none\" stroke=\"black\" points=\"672,-82.5 672,-118.5 945,-118.5 945,-82.5 672,-82.5\"/>\n<text text-anchor=\"middle\" x=\"725\" y=\"-96.8\" font-family=\"Times,serif\" font-size=\"14.00\">x1*w1 + x2*w2</text>\n<polyline fill=\"none\" stroke=\"black\" points=\"778,-82.5 778,-118.5 \"/>\n<text text-anchor=\"middle\" x=\"820.5\" y=\"-96.8\" font-family=\"Times,serif\" font-size=\"14.00\">data &#45;6.0000</text>\n<polyline fill=\"none\" stroke=\"black\" points=\"863,-82.5 863,-118.5 \"/>\n<text text-anchor=\"middle\" x=\"904\" y=\"-96.8\" font-family=\"Times,serif\" font-size=\"14.00\">grad 0.5000</text>\n</g>\n<!-- 140558488879552&#45;&gt;140558488880992+ -->\n<g id=\"edge9\" class=\"edge\">\n<title>140558488879552&#45;&gt;140558488880992+</title>\n<path fill=\"none\" stroke=\"black\" d=\"M936.53,-82.49C949.09,-80.71 960.99,-79.02 971.3,-77.56\"/>\n<polygon fill=\"black\" stroke=\"black\" points=\"972.03,-80.99 981.44,-76.12 971.05,-74.06 972.03,-80.99\"/>\n</g>\n<!-- 140558488879552+&#45;&gt;140558488879552 -->\n<g id=\"edge5\" class=\"edge\">\n<title>140558488879552+&#45;&gt;140558488879552</title>\n<path fill=\"none\" stroke=\"black\" d=\"M636.23,-100.5C643.7,-100.5 652.41,-100.5 661.87,-100.5\"/>\n<polygon fill=\"black\" stroke=\"black\" points=\"661.98,-104 671.98,-100.5 661.98,-97 661.98,-104\"/>\n</g>\n<!-- 140558488880080 -->\n<g id=\"node15\" class=\"node\">\n<title>140558488880080</title>\n<polygon fill=\"none\" stroke=\"black\" points=\"2.5,-0.5 2.5,-36.5 197.5,-36.5 197.5,-0.5 2.5,-0.5\"/>\n<text text-anchor=\"middle\" x=\"19\" y=\"-14.8\" font-family=\"Times,serif\" font-size=\"14.00\">w2</text>\n<polyline fill=\"none\" stroke=\"black\" points=\"35.5,-0.5 35.5,-36.5 \"/>\n<text text-anchor=\"middle\" x=\"75.5\" y=\"-14.8\" font-family=\"Times,serif\" font-size=\"14.00\">data 1.0000</text>\n<polyline fill=\"none\" stroke=\"black\" points=\"115.5,-0.5 115.5,-36.5 \"/>\n<text text-anchor=\"middle\" x=\"156.5\" y=\"-14.8\" font-family=\"Times,serif\" font-size=\"14.00\">grad 0.0000</text>\n</g>\n<!-- 140558488880080&#45;&gt;140558488879408* -->\n<g id=\"edge6\" class=\"edge\">\n<title>140558488880080&#45;&gt;140558488879408*</title>\n<path fill=\"none\" stroke=\"black\" d=\"M169.28,-36.5C179.65,-39.61 190.16,-42.98 200,-46.5 210.28,-50.17 221.28,-54.74 231.11,-59.07\"/>\n<polygon fill=\"black\" stroke=\"black\" points=\"229.93,-62.37 240.48,-63.27 232.79,-55.99 229.93,-62.37\"/>\n</g>\n</g>\n</svg>\n"
          },
          "metadata": {},
          "execution_count": 43
        }
      ]
    },
    {
      "cell_type": "code",
      "source": [
        "o.grad = 1"
      ],
      "metadata": {
        "id": "E3HG0UQG27HC"
      },
      "execution_count": 27,
      "outputs": []
    },
    {
      "cell_type": "code",
      "source": [
        "#do/dn = 1 - tan**2(n)  = #do/dn = 1 - o**2(n)\n",
        "1 - o.data**2"
      ],
      "metadata": {
        "colab": {
          "base_uri": "https://localhost:8080/"
        },
        "id": "SwrhDN9E2mgA",
        "outputId": "fb5dbacd-9d08-42bc-e56f-9c786c08b028"
      },
      "execution_count": 34,
      "outputs": [
        {
          "output_type": "execute_result",
          "data": {
            "text/plain": [
              "0.4999999999999999"
            ]
          },
          "metadata": {},
          "execution_count": 34
        }
      ]
    },
    {
      "cell_type": "code",
      "source": [
        "\"\"\"\n",
        "d(o)/d(w1) = d(w1)/d(x1w1)  *  d(dx1w1)/d(0)\n",
        "           = 0.5 *  2\n",
        "           = 1\n",
        "\"\"\"\n",
        "\n",
        "b.grad = 0.5\n",
        "x1w1x2w2.grad = 0.5\n",
        "x1w1.grad = 0.5\n",
        "x2w2.grad = 0.5\n",
        "w1.grad = x1.data * x1w1.grad\n",
        "x1.grad = w1.data * x1w1.grad\n",
        "w2.grad = x2.data * x2w2.grad\n",
        "x2.grad = w1.data * x2w2.grad\n"
      ],
      "metadata": {
        "id": "BdgQ4FjO5bkG"
      },
      "execution_count": 42,
      "outputs": []
    },
    {
      "cell_type": "code",
      "source": [
        "#Modifying the value object to have backward functions\n",
        "class Value:\n",
        "  def __init__(self, data, _children = (), _op='', label = ''):\n",
        "    self.data = data\n",
        "    self._prev = set(_children)\n",
        "    self._op = _op\n",
        "    self.label = label\n",
        "    self.grad = 0.0\n",
        "    self._backward = lambda : None \n",
        "\n",
        "  def __repr__(self):\n",
        "    return f\"Value(data={self.data})\"\n",
        "\n",
        "  def __add__(self, other):\n",
        "    out = Value(self.data + other.data, (self, other), \"+\")\n",
        "    \n",
        "    def backward_fun():\n",
        "        self.grad = 1.0 * out.grad\n",
        "        other.grad = 1.0 * out.grad\n",
        "    out._backward = backward_fun\n",
        "\n",
        "    return out\n",
        "\n",
        "  def __mul__(self, other):\n",
        "    out = Value(self.data * other.data, (self, other), \"*\") \n",
        "    \n",
        "    def backward_fun():\n",
        "        self.grad = other.data * out.grad\n",
        "        other.grad = self.data * out.grad\n",
        "    out._backward = backward_fun\n",
        "\n",
        "    return out\n",
        "\n",
        "  def tanh(self):\n",
        "    x = self.data\n",
        "    t = (math.exp(2*x) - 1)/(math.exp(2*x) + 1)\n",
        "    out = Value(t, (self, ), 'tanh')\n",
        "\n",
        "    def backward_fun():\n",
        "        out.grad = 1.0\n",
        "        self.grad = 1 - t**2 \n",
        "    out._backward = backward_fun\n",
        "\n",
        "    return out"
      ],
      "metadata": {
        "id": "NBx4N5SL5rjU"
      },
      "execution_count": 67,
      "outputs": []
    },
    {
      "cell_type": "code",
      "source": [
        "# inputs x1,x2\n",
        "x1 = Value(2.0, label='x1')\n",
        "x2 = Value(0.0, label='x2')\n",
        "# weights w1,w2\n",
        "w1 = Value(-3.0, label='w1')\n",
        "w2 = Value(1.0, label='w2')\n",
        "# bias of the neuron\n",
        "b = Value(6.8813735870195432, label='b')\n",
        "# x1*w1 + x2*w2 + b\n",
        "x1w1 = x1*w1; x1w1.label = 'x1*w1'\n",
        "x2w2 = x2*w2; x2w2.label = 'x2*w2'\n",
        "x1w1x2w2 = x1w1 + x2w2; x1w1x2w2.label = 'x1*w1 + x2*w2'\n",
        "n = x1w1x2w2 + b; n.label = 'n'\n",
        "o = n.tanh(); o.label = 'o'\n",
        "\n",
        "o._backward()\n",
        "n._backward()\n",
        "b._backward()\n",
        "x1w1x2w2._backward()\n",
        "x1w1._backward()\n",
        "x2w2._backward()\n",
        "\n",
        "draw_dot(o)"
      ],
      "metadata": {
        "colab": {
          "base_uri": "https://localhost:8080/",
          "height": 321
        },
        "id": "vMTjxfOZKZzY",
        "outputId": "2b536a69-e97b-418b-d075-6d5a07b1370a"
      },
      "execution_count": 71,
      "outputs": [
        {
          "output_type": "execute_result",
          "data": {
            "text/plain": [
              "<graphviz.dot.Digraph at 0x7fd649e33a60>"
            ],
            "image/svg+xml": "<?xml version=\"1.0\" encoding=\"UTF-8\" standalone=\"no\"?>\n<!DOCTYPE svg PUBLIC \"-//W3C//DTD SVG 1.1//EN\"\n \"http://www.w3.org/Graphics/SVG/1.1/DTD/svg11.dtd\">\n<!-- Generated by graphviz version 2.43.0 (0)\n -->\n<!-- Title: %3 Pages: 1 -->\n<svg width=\"1575pt\" height=\"210pt\"\n viewBox=\"0.00 0.00 1575.00 210.00\" xmlns=\"http://www.w3.org/2000/svg\" xmlns:xlink=\"http://www.w3.org/1999/xlink\">\n<g id=\"graph0\" class=\"graph\" transform=\"scale(1 1) rotate(0) translate(4 206)\">\n<title>%3</title>\n<polygon fill=\"white\" stroke=\"transparent\" points=\"-4,4 -4,-206 1571,-206 1571,4 -4,4\"/>\n<!-- 140558339394576 -->\n<g id=\"node1\" class=\"node\">\n<title>140558339394576</title>\n<polygon fill=\"none\" stroke=\"black\" points=\"0,-165.5 0,-201.5 200,-201.5 200,-165.5 0,-165.5\"/>\n<text text-anchor=\"middle\" x=\"16.5\" y=\"-179.8\" font-family=\"Times,serif\" font-size=\"14.00\">w1</text>\n<polyline fill=\"none\" stroke=\"black\" points=\"33,-165.5 33,-201.5 \"/>\n<text text-anchor=\"middle\" x=\"75.5\" y=\"-179.8\" font-family=\"Times,serif\" font-size=\"14.00\">data &#45;3.0000</text>\n<polyline fill=\"none\" stroke=\"black\" points=\"118,-165.5 118,-201.5 \"/>\n<text text-anchor=\"middle\" x=\"159\" y=\"-179.8\" font-family=\"Times,serif\" font-size=\"14.00\">grad 0.0000</text>\n</g>\n<!-- 140558339394144* -->\n<g id=\"node3\" class=\"node\">\n<title>140558339394144*</title>\n<ellipse fill=\"none\" stroke=\"black\" cx=\"263\" cy=\"-128.5\" rx=\"27\" ry=\"18\"/>\n<text text-anchor=\"middle\" x=\"263\" y=\"-124.8\" font-family=\"Times,serif\" font-size=\"14.00\">*</text>\n</g>\n<!-- 140558339394576&#45;&gt;140558339394144* -->\n<g id=\"edge7\" class=\"edge\">\n<title>140558339394576&#45;&gt;140558339394144*</title>\n<path fill=\"none\" stroke=\"black\" d=\"M172.53,-165.44C181.84,-162.67 191.2,-159.67 200,-156.5 210.53,-152.71 221.75,-147.9 231.72,-143.33\"/>\n<polygon fill=\"black\" stroke=\"black\" points=\"233.25,-146.48 240.82,-139.07 230.28,-140.14 233.25,-146.48\"/>\n</g>\n<!-- 140558339394144 -->\n<g id=\"node2\" class=\"node\">\n<title>140558339394144</title>\n<polygon fill=\"none\" stroke=\"black\" points=\"326,-110.5 326,-146.5 546,-146.5 546,-110.5 326,-110.5\"/>\n<text text-anchor=\"middle\" x=\"352.5\" y=\"-124.8\" font-family=\"Times,serif\" font-size=\"14.00\">x1*w1</text>\n<polyline fill=\"none\" stroke=\"black\" points=\"379,-110.5 379,-146.5 \"/>\n<text text-anchor=\"middle\" x=\"421.5\" y=\"-124.8\" font-family=\"Times,serif\" font-size=\"14.00\">data &#45;6.0000</text>\n<polyline fill=\"none\" stroke=\"black\" points=\"464,-110.5 464,-146.5 \"/>\n<text text-anchor=\"middle\" x=\"505\" y=\"-124.8\" font-family=\"Times,serif\" font-size=\"14.00\">grad 0.0000</text>\n</g>\n<!-- 140558339395248+ -->\n<g id=\"node7\" class=\"node\">\n<title>140558339395248+</title>\n<ellipse fill=\"none\" stroke=\"black\" cx=\"609\" cy=\"-100.5\" rx=\"27\" ry=\"18\"/>\n<text text-anchor=\"middle\" x=\"609\" y=\"-96.8\" font-family=\"Times,serif\" font-size=\"14.00\">+</text>\n</g>\n<!-- 140558339394144&#45;&gt;140558339395248+ -->\n<g id=\"edge11\" class=\"edge\">\n<title>140558339394144&#45;&gt;140558339395248+</title>\n<path fill=\"none\" stroke=\"black\" d=\"M546.27,-110.61C555.64,-109.07 564.6,-107.61 572.65,-106.29\"/>\n<polygon fill=\"black\" stroke=\"black\" points=\"573.35,-109.72 582.65,-104.65 572.22,-102.81 573.35,-109.72\"/>\n</g>\n<!-- 140558339394144*&#45;&gt;140558339394144 -->\n<g id=\"edge1\" class=\"edge\">\n<title>140558339394144*&#45;&gt;140558339394144</title>\n<path fill=\"none\" stroke=\"black\" d=\"M290.34,-128.5C297.77,-128.5 306.37,-128.5 315.6,-128.5\"/>\n<polygon fill=\"black\" stroke=\"black\" points=\"315.84,-132 325.84,-128.5 315.84,-125 315.84,-132\"/>\n</g>\n<!-- 140558339393136 -->\n<g id=\"node4\" class=\"node\">\n<title>140558339393136</title>\n<polygon fill=\"none\" stroke=\"black\" points=\"328.5,-55.5 328.5,-91.5 543.5,-91.5 543.5,-55.5 328.5,-55.5\"/>\n<text text-anchor=\"middle\" x=\"355\" y=\"-69.8\" font-family=\"Times,serif\" font-size=\"14.00\">x2*w2</text>\n<polyline fill=\"none\" stroke=\"black\" points=\"381.5,-55.5 381.5,-91.5 \"/>\n<text text-anchor=\"middle\" x=\"421.5\" y=\"-69.8\" font-family=\"Times,serif\" font-size=\"14.00\">data 0.0000</text>\n<polyline fill=\"none\" stroke=\"black\" points=\"461.5,-55.5 461.5,-91.5 \"/>\n<text text-anchor=\"middle\" x=\"502.5\" y=\"-69.8\" font-family=\"Times,serif\" font-size=\"14.00\">grad 0.0000</text>\n</g>\n<!-- 140558339393136&#45;&gt;140558339395248+ -->\n<g id=\"edge14\" class=\"edge\">\n<title>140558339393136&#45;&gt;140558339395248+</title>\n<path fill=\"none\" stroke=\"black\" d=\"M543.84,-90.37C554.01,-91.98 563.76,-93.51 572.44,-94.89\"/>\n<polygon fill=\"black\" stroke=\"black\" points=\"572.05,-98.37 582.47,-96.47 573.14,-91.45 572.05,-98.37\"/>\n</g>\n<!-- 140558339393136* -->\n<g id=\"node5\" class=\"node\">\n<title>140558339393136*</title>\n<ellipse fill=\"none\" stroke=\"black\" cx=\"263\" cy=\"-73.5\" rx=\"27\" ry=\"18\"/>\n<text text-anchor=\"middle\" x=\"263\" y=\"-69.8\" font-family=\"Times,serif\" font-size=\"14.00\">*</text>\n</g>\n<!-- 140558339393136*&#45;&gt;140558339393136 -->\n<g id=\"edge2\" class=\"edge\">\n<title>140558339393136*&#45;&gt;140558339393136</title>\n<path fill=\"none\" stroke=\"black\" d=\"M290.34,-73.5C298.51,-73.5 308.08,-73.5 318.36,-73.5\"/>\n<polygon fill=\"black\" stroke=\"black\" points=\"318.39,-77 328.39,-73.5 318.39,-70 318.39,-77\"/>\n</g>\n<!-- 140558339395248 -->\n<g id=\"node6\" class=\"node\">\n<title>140558339395248</title>\n<polygon fill=\"none\" stroke=\"black\" points=\"672,-82.5 672,-118.5 945,-118.5 945,-82.5 672,-82.5\"/>\n<text text-anchor=\"middle\" x=\"725\" y=\"-96.8\" font-family=\"Times,serif\" font-size=\"14.00\">x1*w1 + x2*w2</text>\n<polyline fill=\"none\" stroke=\"black\" points=\"778,-82.5 778,-118.5 \"/>\n<text text-anchor=\"middle\" x=\"820.5\" y=\"-96.8\" font-family=\"Times,serif\" font-size=\"14.00\">data &#45;6.0000</text>\n<polyline fill=\"none\" stroke=\"black\" points=\"863,-82.5 863,-118.5 \"/>\n<text text-anchor=\"middle\" x=\"904\" y=\"-96.8\" font-family=\"Times,serif\" font-size=\"14.00\">grad 0.0000</text>\n</g>\n<!-- 140558339392224+ -->\n<g id=\"node10\" class=\"node\">\n<title>140558339392224+</title>\n<ellipse fill=\"none\" stroke=\"black\" cx=\"1008\" cy=\"-72.5\" rx=\"27\" ry=\"18\"/>\n<text text-anchor=\"middle\" x=\"1008\" y=\"-68.8\" font-family=\"Times,serif\" font-size=\"14.00\">+</text>\n</g>\n<!-- 140558339395248&#45;&gt;140558339392224+ -->\n<g id=\"edge9\" class=\"edge\">\n<title>140558339395248&#45;&gt;140558339392224+</title>\n<path fill=\"none\" stroke=\"black\" d=\"M936.53,-82.49C949.09,-80.71 960.99,-79.02 971.3,-77.56\"/>\n<polygon fill=\"black\" stroke=\"black\" points=\"972.03,-80.99 981.44,-76.12 971.05,-74.06 972.03,-80.99\"/>\n</g>\n<!-- 140558339395248+&#45;&gt;140558339395248 -->\n<g id=\"edge3\" class=\"edge\">\n<title>140558339395248+&#45;&gt;140558339395248</title>\n<path fill=\"none\" stroke=\"black\" d=\"M636.23,-100.5C643.7,-100.5 652.41,-100.5 661.87,-100.5\"/>\n<polygon fill=\"black\" stroke=\"black\" points=\"661.98,-104 671.98,-100.5 661.98,-97 661.98,-104\"/>\n</g>\n<!-- 140558339394240 -->\n<g id=\"node8\" class=\"node\">\n<title>140558339394240</title>\n<polygon fill=\"none\" stroke=\"black\" points=\"2.5,-55.5 2.5,-91.5 197.5,-91.5 197.5,-55.5 2.5,-55.5\"/>\n<text text-anchor=\"middle\" x=\"19\" y=\"-69.8\" font-family=\"Times,serif\" font-size=\"14.00\">w2</text>\n<polyline fill=\"none\" stroke=\"black\" points=\"35.5,-55.5 35.5,-91.5 \"/>\n<text text-anchor=\"middle\" x=\"75.5\" y=\"-69.8\" font-family=\"Times,serif\" font-size=\"14.00\">data 1.0000</text>\n<polyline fill=\"none\" stroke=\"black\" points=\"115.5,-55.5 115.5,-91.5 \"/>\n<text text-anchor=\"middle\" x=\"156.5\" y=\"-69.8\" font-family=\"Times,serif\" font-size=\"14.00\">grad 0.0000</text>\n</g>\n<!-- 140558339394240&#45;&gt;140558339393136* -->\n<g id=\"edge6\" class=\"edge\">\n<title>140558339394240&#45;&gt;140558339393136*</title>\n<path fill=\"none\" stroke=\"black\" d=\"M197.91,-73.5C207.65,-73.5 217.05,-73.5 225.52,-73.5\"/>\n<polygon fill=\"black\" stroke=\"black\" points=\"225.7,-77 235.7,-73.5 225.7,-70 225.7,-77\"/>\n</g>\n<!-- 140558339392224 -->\n<g id=\"node9\" class=\"node\">\n<title>140558339392224</title>\n<polygon fill=\"none\" stroke=\"black\" points=\"1071,-54.5 1071,-90.5 1256,-90.5 1256,-54.5 1071,-54.5\"/>\n<text text-anchor=\"middle\" x=\"1082.5\" y=\"-68.8\" font-family=\"Times,serif\" font-size=\"14.00\">n</text>\n<polyline fill=\"none\" stroke=\"black\" points=\"1094,-54.5 1094,-90.5 \"/>\n<text text-anchor=\"middle\" x=\"1134\" y=\"-68.8\" font-family=\"Times,serif\" font-size=\"14.00\">data 0.8814</text>\n<polyline fill=\"none\" stroke=\"black\" points=\"1174,-54.5 1174,-90.5 \"/>\n<text text-anchor=\"middle\" x=\"1215\" y=\"-68.8\" font-family=\"Times,serif\" font-size=\"14.00\">grad 0.0000</text>\n</g>\n<!-- 140558339358576tanh -->\n<g id=\"node15\" class=\"node\">\n<title>140558339358576tanh</title>\n<ellipse fill=\"none\" stroke=\"black\" cx=\"1319\" cy=\"-72.5\" rx=\"27\" ry=\"18\"/>\n<text text-anchor=\"middle\" x=\"1319\" y=\"-68.8\" font-family=\"Times,serif\" font-size=\"14.00\">tanh</text>\n</g>\n<!-- 140558339392224&#45;&gt;140558339358576tanh -->\n<g id=\"edge12\" class=\"edge\">\n<title>140558339392224&#45;&gt;140558339358576tanh</title>\n<path fill=\"none\" stroke=\"black\" d=\"M1256.01,-72.5C1265.01,-72.5 1273.74,-72.5 1281.66,-72.5\"/>\n<polygon fill=\"black\" stroke=\"black\" points=\"1281.91,-76 1291.91,-72.5 1281.91,-69 1281.91,-76\"/>\n</g>\n<!-- 140558339392224+&#45;&gt;140558339392224 -->\n<g id=\"edge4\" class=\"edge\">\n<title>140558339392224+&#45;&gt;140558339392224</title>\n<path fill=\"none\" stroke=\"black\" d=\"M1035.04,-72.5C1042.58,-72.5 1051.3,-72.5 1060.57,-72.5\"/>\n<polygon fill=\"black\" stroke=\"black\" points=\"1060.81,-76 1070.81,-72.5 1060.81,-69 1060.81,-76\"/>\n</g>\n<!-- 140558339394288 -->\n<g id=\"node11\" class=\"node\">\n<title>140558339394288</title>\n<polygon fill=\"none\" stroke=\"black\" points=\"4,-110.5 4,-146.5 196,-146.5 196,-110.5 4,-110.5\"/>\n<text text-anchor=\"middle\" x=\"19\" y=\"-124.8\" font-family=\"Times,serif\" font-size=\"14.00\">x1</text>\n<polyline fill=\"none\" stroke=\"black\" points=\"34,-110.5 34,-146.5 \"/>\n<text text-anchor=\"middle\" x=\"74\" y=\"-124.8\" font-family=\"Times,serif\" font-size=\"14.00\">data 2.0000</text>\n<polyline fill=\"none\" stroke=\"black\" points=\"114,-110.5 114,-146.5 \"/>\n<text text-anchor=\"middle\" x=\"155\" y=\"-124.8\" font-family=\"Times,serif\" font-size=\"14.00\">grad 0.0000</text>\n</g>\n<!-- 140558339394288&#45;&gt;140558339394144* -->\n<g id=\"edge10\" class=\"edge\">\n<title>140558339394288&#45;&gt;140558339394144*</title>\n<path fill=\"none\" stroke=\"black\" d=\"M196.05,-128.5C206.52,-128.5 216.65,-128.5 225.71,-128.5\"/>\n<polygon fill=\"black\" stroke=\"black\" points=\"225.79,-132 235.79,-128.5 225.79,-125 225.79,-132\"/>\n</g>\n<!-- 140558339392752 -->\n<g id=\"node12\" class=\"node\">\n<title>140558339392752</title>\n<polygon fill=\"none\" stroke=\"black\" points=\"4,-0.5 4,-36.5 196,-36.5 196,-0.5 4,-0.5\"/>\n<text text-anchor=\"middle\" x=\"19\" y=\"-14.8\" font-family=\"Times,serif\" font-size=\"14.00\">x2</text>\n<polyline fill=\"none\" stroke=\"black\" points=\"34,-0.5 34,-36.5 \"/>\n<text text-anchor=\"middle\" x=\"74\" y=\"-14.8\" font-family=\"Times,serif\" font-size=\"14.00\">data 0.0000</text>\n<polyline fill=\"none\" stroke=\"black\" points=\"114,-0.5 114,-36.5 \"/>\n<text text-anchor=\"middle\" x=\"155\" y=\"-14.8\" font-family=\"Times,serif\" font-size=\"14.00\">grad 0.0000</text>\n</g>\n<!-- 140558339392752&#45;&gt;140558339393136* -->\n<g id=\"edge13\" class=\"edge\">\n<title>140558339392752&#45;&gt;140558339393136*</title>\n<path fill=\"none\" stroke=\"black\" d=\"M169.28,-36.5C179.65,-39.61 190.16,-42.98 200,-46.5 210.28,-50.17 221.28,-54.74 231.11,-59.07\"/>\n<polygon fill=\"black\" stroke=\"black\" points=\"229.93,-62.37 240.48,-63.27 232.79,-55.99 229.93,-62.37\"/>\n</g>\n<!-- 140558339391840 -->\n<g id=\"node13\" class=\"node\">\n<title>140558339391840</title>\n<polygon fill=\"none\" stroke=\"black\" points=\"716,-27.5 716,-63.5 901,-63.5 901,-27.5 716,-27.5\"/>\n<text text-anchor=\"middle\" x=\"727.5\" y=\"-41.8\" font-family=\"Times,serif\" font-size=\"14.00\">b</text>\n<polyline fill=\"none\" stroke=\"black\" points=\"739,-27.5 739,-63.5 \"/>\n<text text-anchor=\"middle\" x=\"779\" y=\"-41.8\" font-family=\"Times,serif\" font-size=\"14.00\">data 6.8814</text>\n<polyline fill=\"none\" stroke=\"black\" points=\"819,-27.5 819,-63.5 \"/>\n<text text-anchor=\"middle\" x=\"860\" y=\"-41.8\" font-family=\"Times,serif\" font-size=\"14.00\">grad 0.0000</text>\n</g>\n<!-- 140558339391840&#45;&gt;140558339392224+ -->\n<g id=\"edge8\" class=\"edge\">\n<title>140558339391840&#45;&gt;140558339392224+</title>\n<path fill=\"none\" stroke=\"black\" d=\"M901.02,-58.01C926,-61.43 951.59,-64.93 971.37,-67.63\"/>\n<polygon fill=\"black\" stroke=\"black\" points=\"971.05,-71.12 981.43,-69.01 972,-64.18 971.05,-71.12\"/>\n</g>\n<!-- 140558339358576 -->\n<g id=\"node14\" class=\"node\">\n<title>140558339358576</title>\n<polygon fill=\"none\" stroke=\"black\" points=\"1382,-54.5 1382,-90.5 1567,-90.5 1567,-54.5 1382,-54.5\"/>\n<text text-anchor=\"middle\" x=\"1393.5\" y=\"-68.8\" font-family=\"Times,serif\" font-size=\"14.00\">o</text>\n<polyline fill=\"none\" stroke=\"black\" points=\"1405,-54.5 1405,-90.5 \"/>\n<text text-anchor=\"middle\" x=\"1445\" y=\"-68.8\" font-family=\"Times,serif\" font-size=\"14.00\">data 0.7071</text>\n<polyline fill=\"none\" stroke=\"black\" points=\"1485,-54.5 1485,-90.5 \"/>\n<text text-anchor=\"middle\" x=\"1526\" y=\"-68.8\" font-family=\"Times,serif\" font-size=\"14.00\">grad 0.0000</text>\n</g>\n<!-- 140558339358576tanh&#45;&gt;140558339358576 -->\n<g id=\"edge5\" class=\"edge\">\n<title>140558339358576tanh&#45;&gt;140558339358576</title>\n<path fill=\"none\" stroke=\"black\" d=\"M1346.04,-72.5C1353.58,-72.5 1362.3,-72.5 1371.57,-72.5\"/>\n<polygon fill=\"black\" stroke=\"black\" points=\"1371.81,-76 1381.81,-72.5 1371.81,-69 1371.81,-76\"/>\n</g>\n</g>\n</svg>\n"
          },
          "metadata": {},
          "execution_count": 71
        }
      ]
    },
    {
      "cell_type": "code",
      "source": [
        "from types import BuiltinFunctionType\n",
        "#using topological sort to call each backward functions \n",
        "\n",
        "topo = []\n",
        "visited = set()\n",
        "def build_topo(v):\n",
        "  if v not in visited:\n",
        "    visited.add(v)\n",
        "    for child in v._prev:\n",
        "      build_topo(child)\n",
        "    topo.append(v)\n",
        "\n",
        "build_topo(o)\n",
        "topo"
      ],
      "metadata": {
        "colab": {
          "base_uri": "https://localhost:8080/"
        },
        "id": "cenExAf5KzUC",
        "outputId": "99f5d830-c2d3-4476-c6d6-22c6e386653d"
      },
      "execution_count": 62,
      "outputs": [
        {
          "output_type": "execute_result",
          "data": {
            "text/plain": [
              "[Value(data=2.0),\n",
              " Value(data=-3.0),\n",
              " Value(data=-6.0),\n",
              " Value(data=1.0),\n",
              " Value(data=0.0),\n",
              " Value(data=0.0),\n",
              " Value(data=-6.0),\n",
              " Value(data=6.881373587019543),\n",
              " Value(data=0.8813735870195432),\n",
              " Value(data=0.7071067811865476)]"
            ]
          },
          "metadata": {},
          "execution_count": 62
        }
      ]
    },
    {
      "cell_type": "code",
      "source": [
        "#Changing the value object to automatically call the backfward function\n",
        "class Value:\n",
        "  def __init__(self, data, _children = (), _op='', label = ''):\n",
        "    self.data = data\n",
        "    self._prev = set(_children)\n",
        "    self._op = _op\n",
        "    self.label = label\n",
        "    self.grad = 0.0\n",
        "    self._backward = lambda : None \n",
        "\n",
        "  def __repr__(self):\n",
        "    return f\"Value(data={self.data})\"\n",
        "\n",
        "  def __add__(self, other):\n",
        "    out = Value(self.data + other.data, (self, other), \"+\")\n",
        "    \n",
        "    def backward_fun():\n",
        "        self.grad = 1.0 * out.grad\n",
        "        other.grad = 1.0 * out.grad\n",
        "    out._backward = backward_fun\n",
        "\n",
        "    return out\n",
        "\n",
        "  def __mul__(self, other):\n",
        "    out = Value(self.data * other.data, (self, other), \"*\") \n",
        "    \n",
        "    def backward_fun():\n",
        "        self.grad = other.data * out.grad\n",
        "        other.grad = self.data * out.grad\n",
        "    out._backward = backward_fun\n",
        "\n",
        "    return out\n",
        "\n",
        "  def tanh(self):\n",
        "    x = self.data\n",
        "    t = (math.exp(2*x) - 1)/(math.exp(2*x) + 1)\n",
        "    out = Value(t, (self, ), 'tanh')\n",
        "\n",
        "    def backward_fun():\n",
        "        out.grad = 1.0\n",
        "        self.grad = 1 - t**2 \n",
        "    out._backward = backward_fun\n",
        "\n",
        "    return out\n",
        "\n",
        "  def backward(self):\n",
        "    topo = []\n",
        "    visited = set()\n",
        "    def build_topo(v):\n",
        "      if v not in visited:\n",
        "        visited.add(v)\n",
        "        for child in v._prev:\n",
        "          build_topo(child)\n",
        "        topo.append(v)\n",
        "    build_topo(self)\n",
        "\n",
        "    self.grad = 1.0\n",
        "    for node in reversed(topo):\n",
        "      node._backward()\n"
      ],
      "metadata": {
        "id": "I2aWn707g64c"
      },
      "execution_count": 69,
      "outputs": []
    },
    {
      "cell_type": "code",
      "source": [
        "# inputs x1,x2\n",
        "x1 = Value(2.0, label='x1')\n",
        "x2 = Value(0.0, label='x2')\n",
        "# weights w1,w2\n",
        "w1 = Value(-3.0, label='w1')\n",
        "w2 = Value(1.0, label='w2')\n",
        "# bias of the neuron\n",
        "b = Value(6.8813735870195432, label='b')\n",
        "# x1*w1 + x2*w2 + b\n",
        "x1w1 = x1*w1; x1w1.label = 'x1*w1'\n",
        "x2w2 = x2*w2; x2w2.label = 'x2*w2'\n",
        "x1w1x2w2 = x1w1 + x2w2; x1w1x2w2.label = 'x1*w1 + x2*w2'\n",
        "n = x1w1x2w2 + b; n.label = 'n'\n",
        "o = n.tanh(); o.label = 'o'\n",
        "\n",
        "o.backward()\n",
        "\n",
        "draw_dot(o)\n",
        "\n"
      ],
      "metadata": {
        "colab": {
          "base_uri": "https://localhost:8080/",
          "height": 321
        },
        "id": "7NVuPoV5iOHd",
        "outputId": "a3516732-d86f-4656-e3af-2a68de8b2141"
      },
      "execution_count": 74,
      "outputs": [
        {
          "output_type": "execute_result",
          "data": {
            "text/plain": [
              "<graphviz.dot.Digraph at 0x7fd649e3c070>"
            ],
            "image/svg+xml": "<?xml version=\"1.0\" encoding=\"UTF-8\" standalone=\"no\"?>\n<!DOCTYPE svg PUBLIC \"-//W3C//DTD SVG 1.1//EN\"\n \"http://www.w3.org/Graphics/SVG/1.1/DTD/svg11.dtd\">\n<!-- Generated by graphviz version 2.43.0 (0)\n -->\n<!-- Title: %3 Pages: 1 -->\n<svg width=\"1575pt\" height=\"210pt\"\n viewBox=\"0.00 0.00 1575.00 210.00\" xmlns=\"http://www.w3.org/2000/svg\" xmlns:xlink=\"http://www.w3.org/1999/xlink\">\n<g id=\"graph0\" class=\"graph\" transform=\"scale(1 1) rotate(0) translate(4 206)\">\n<title>%3</title>\n<polygon fill=\"white\" stroke=\"transparent\" points=\"-4,4 -4,-206 1571,-206 1571,4 -4,4\"/>\n<!-- 140558339139136 -->\n<g id=\"node1\" class=\"node\">\n<title>140558339139136</title>\n<polygon fill=\"none\" stroke=\"black\" points=\"1382,-54.5 1382,-90.5 1567,-90.5 1567,-54.5 1382,-54.5\"/>\n<text text-anchor=\"middle\" x=\"1393.5\" y=\"-68.8\" font-family=\"Times,serif\" font-size=\"14.00\">o</text>\n<polyline fill=\"none\" stroke=\"black\" points=\"1405,-54.5 1405,-90.5 \"/>\n<text text-anchor=\"middle\" x=\"1445\" y=\"-68.8\" font-family=\"Times,serif\" font-size=\"14.00\">data 0.7071</text>\n<polyline fill=\"none\" stroke=\"black\" points=\"1485,-54.5 1485,-90.5 \"/>\n<text text-anchor=\"middle\" x=\"1526\" y=\"-68.8\" font-family=\"Times,serif\" font-size=\"14.00\">grad 1.0000</text>\n</g>\n<!-- 140558339139136tanh -->\n<g id=\"node2\" class=\"node\">\n<title>140558339139136tanh</title>\n<ellipse fill=\"none\" stroke=\"black\" cx=\"1319\" cy=\"-72.5\" rx=\"27\" ry=\"18\"/>\n<text text-anchor=\"middle\" x=\"1319\" y=\"-68.8\" font-family=\"Times,serif\" font-size=\"14.00\">tanh</text>\n</g>\n<!-- 140558339139136tanh&#45;&gt;140558339139136 -->\n<g id=\"edge1\" class=\"edge\">\n<title>140558339139136tanh&#45;&gt;140558339139136</title>\n<path fill=\"none\" stroke=\"black\" d=\"M1346.04,-72.5C1353.58,-72.5 1362.3,-72.5 1371.57,-72.5\"/>\n<polygon fill=\"black\" stroke=\"black\" points=\"1371.81,-76 1381.81,-72.5 1371.81,-69 1371.81,-76\"/>\n</g>\n<!-- 140558339392080 -->\n<g id=\"node3\" class=\"node\">\n<title>140558339392080</title>\n<polygon fill=\"none\" stroke=\"black\" points=\"328.5,-110.5 328.5,-146.5 543.5,-146.5 543.5,-110.5 328.5,-110.5\"/>\n<text text-anchor=\"middle\" x=\"355\" y=\"-124.8\" font-family=\"Times,serif\" font-size=\"14.00\">x2*w2</text>\n<polyline fill=\"none\" stroke=\"black\" points=\"381.5,-110.5 381.5,-146.5 \"/>\n<text text-anchor=\"middle\" x=\"421.5\" y=\"-124.8\" font-family=\"Times,serif\" font-size=\"14.00\">data 0.0000</text>\n<polyline fill=\"none\" stroke=\"black\" points=\"461.5,-110.5 461.5,-146.5 \"/>\n<text text-anchor=\"middle\" x=\"502.5\" y=\"-124.8\" font-family=\"Times,serif\" font-size=\"14.00\">grad 0.5000</text>\n</g>\n<!-- 140558339393184+ -->\n<g id=\"node7\" class=\"node\">\n<title>140558339393184+</title>\n<ellipse fill=\"none\" stroke=\"black\" cx=\"609\" cy=\"-100.5\" rx=\"27\" ry=\"18\"/>\n<text text-anchor=\"middle\" x=\"609\" y=\"-96.8\" font-family=\"Times,serif\" font-size=\"14.00\">+</text>\n</g>\n<!-- 140558339392080&#45;&gt;140558339393184+ -->\n<g id=\"edge9\" class=\"edge\">\n<title>140558339392080&#45;&gt;140558339393184+</title>\n<path fill=\"none\" stroke=\"black\" d=\"M543.84,-111.01C554.01,-109.34 563.76,-107.74 572.44,-106.32\"/>\n<polygon fill=\"black\" stroke=\"black\" points=\"573.17,-109.75 582.47,-104.68 572.04,-102.84 573.17,-109.75\"/>\n</g>\n<!-- 140558339392080* -->\n<g id=\"node4\" class=\"node\">\n<title>140558339392080*</title>\n<ellipse fill=\"none\" stroke=\"black\" cx=\"263\" cy=\"-128.5\" rx=\"27\" ry=\"18\"/>\n<text text-anchor=\"middle\" x=\"263\" y=\"-124.8\" font-family=\"Times,serif\" font-size=\"14.00\">*</text>\n</g>\n<!-- 140558339392080*&#45;&gt;140558339392080 -->\n<g id=\"edge2\" class=\"edge\">\n<title>140558339392080*&#45;&gt;140558339392080</title>\n<path fill=\"none\" stroke=\"black\" d=\"M290.34,-128.5C298.51,-128.5 308.08,-128.5 318.36,-128.5\"/>\n<polygon fill=\"black\" stroke=\"black\" points=\"318.39,-132 328.39,-128.5 318.39,-125 318.39,-132\"/>\n</g>\n<!-- 140558339394192 -->\n<g id=\"node5\" class=\"node\">\n<title>140558339394192</title>\n<polygon fill=\"none\" stroke=\"black\" points=\"0,-55.5 0,-91.5 200,-91.5 200,-55.5 0,-55.5\"/>\n<text text-anchor=\"middle\" x=\"16.5\" y=\"-69.8\" font-family=\"Times,serif\" font-size=\"14.00\">w1</text>\n<polyline fill=\"none\" stroke=\"black\" points=\"33,-55.5 33,-91.5 \"/>\n<text text-anchor=\"middle\" x=\"75.5\" y=\"-69.8\" font-family=\"Times,serif\" font-size=\"14.00\">data &#45;3.0000</text>\n<polyline fill=\"none\" stroke=\"black\" points=\"118,-55.5 118,-91.5 \"/>\n<text text-anchor=\"middle\" x=\"159\" y=\"-69.8\" font-family=\"Times,serif\" font-size=\"14.00\">grad 1.0000</text>\n</g>\n<!-- 140558339395488* -->\n<g id=\"node12\" class=\"node\">\n<title>140558339395488*</title>\n<ellipse fill=\"none\" stroke=\"black\" cx=\"263\" cy=\"-73.5\" rx=\"27\" ry=\"18\"/>\n<text text-anchor=\"middle\" x=\"263\" y=\"-69.8\" font-family=\"Times,serif\" font-size=\"14.00\">*</text>\n</g>\n<!-- 140558339394192&#45;&gt;140558339395488* -->\n<g id=\"edge6\" class=\"edge\">\n<title>140558339394192&#45;&gt;140558339395488*</title>\n<path fill=\"none\" stroke=\"black\" d=\"M200.21,-73.5C209.2,-73.5 217.86,-73.5 225.7,-73.5\"/>\n<polygon fill=\"black\" stroke=\"black\" points=\"225.85,-77 235.85,-73.5 225.85,-70 225.85,-77\"/>\n</g>\n<!-- 140558339393184 -->\n<g id=\"node6\" class=\"node\">\n<title>140558339393184</title>\n<polygon fill=\"none\" stroke=\"black\" points=\"672,-82.5 672,-118.5 945,-118.5 945,-82.5 672,-82.5\"/>\n<text text-anchor=\"middle\" x=\"725\" y=\"-96.8\" font-family=\"Times,serif\" font-size=\"14.00\">x1*w1 + x2*w2</text>\n<polyline fill=\"none\" stroke=\"black\" points=\"778,-82.5 778,-118.5 \"/>\n<text text-anchor=\"middle\" x=\"820.5\" y=\"-96.8\" font-family=\"Times,serif\" font-size=\"14.00\">data &#45;6.0000</text>\n<polyline fill=\"none\" stroke=\"black\" points=\"863,-82.5 863,-118.5 \"/>\n<text text-anchor=\"middle\" x=\"904\" y=\"-96.8\" font-family=\"Times,serif\" font-size=\"14.00\">grad 0.5000</text>\n</g>\n<!-- 140558339138896+ -->\n<g id=\"node10\" class=\"node\">\n<title>140558339138896+</title>\n<ellipse fill=\"none\" stroke=\"black\" cx=\"1008\" cy=\"-72.5\" rx=\"27\" ry=\"18\"/>\n<text text-anchor=\"middle\" x=\"1008\" y=\"-68.8\" font-family=\"Times,serif\" font-size=\"14.00\">+</text>\n</g>\n<!-- 140558339393184&#45;&gt;140558339138896+ -->\n<g id=\"edge11\" class=\"edge\">\n<title>140558339393184&#45;&gt;140558339138896+</title>\n<path fill=\"none\" stroke=\"black\" d=\"M936.53,-82.49C949.09,-80.71 960.99,-79.02 971.3,-77.56\"/>\n<polygon fill=\"black\" stroke=\"black\" points=\"972.03,-80.99 981.44,-76.12 971.05,-74.06 972.03,-80.99\"/>\n</g>\n<!-- 140558339393184+&#45;&gt;140558339393184 -->\n<g id=\"edge3\" class=\"edge\">\n<title>140558339393184+&#45;&gt;140558339393184</title>\n<path fill=\"none\" stroke=\"black\" d=\"M636.23,-100.5C643.7,-100.5 652.41,-100.5 661.87,-100.5\"/>\n<polygon fill=\"black\" stroke=\"black\" points=\"661.98,-104 671.98,-100.5 661.98,-97 661.98,-104\"/>\n</g>\n<!-- 140558339394864 -->\n<g id=\"node8\" class=\"node\">\n<title>140558339394864</title>\n<polygon fill=\"none\" stroke=\"black\" points=\"2,-0.5 2,-36.5 198,-36.5 198,-0.5 2,-0.5\"/>\n<text text-anchor=\"middle\" x=\"17\" y=\"-14.8\" font-family=\"Times,serif\" font-size=\"14.00\">x1</text>\n<polyline fill=\"none\" stroke=\"black\" points=\"32,-0.5 32,-36.5 \"/>\n<text text-anchor=\"middle\" x=\"72\" y=\"-14.8\" font-family=\"Times,serif\" font-size=\"14.00\">data 2.0000</text>\n<polyline fill=\"none\" stroke=\"black\" points=\"112,-0.5 112,-36.5 \"/>\n<text text-anchor=\"middle\" x=\"155\" y=\"-14.8\" font-family=\"Times,serif\" font-size=\"14.00\">grad &#45;1.5000</text>\n</g>\n<!-- 140558339394864&#45;&gt;140558339395488* -->\n<g id=\"edge14\" class=\"edge\">\n<title>140558339394864&#45;&gt;140558339395488*</title>\n<path fill=\"none\" stroke=\"black\" d=\"M172.53,-36.56C181.84,-39.33 191.2,-42.33 200,-45.5 210.53,-49.29 221.75,-54.1 231.72,-58.67\"/>\n<polygon fill=\"black\" stroke=\"black\" points=\"230.28,-61.86 240.82,-62.93 233.25,-55.52 230.28,-61.86\"/>\n</g>\n<!-- 140558339138896 -->\n<g id=\"node9\" class=\"node\">\n<title>140558339138896</title>\n<polygon fill=\"none\" stroke=\"black\" points=\"1071,-54.5 1071,-90.5 1256,-90.5 1256,-54.5 1071,-54.5\"/>\n<text text-anchor=\"middle\" x=\"1082.5\" y=\"-68.8\" font-family=\"Times,serif\" font-size=\"14.00\">n</text>\n<polyline fill=\"none\" stroke=\"black\" points=\"1094,-54.5 1094,-90.5 \"/>\n<text text-anchor=\"middle\" x=\"1134\" y=\"-68.8\" font-family=\"Times,serif\" font-size=\"14.00\">data 0.8814</text>\n<polyline fill=\"none\" stroke=\"black\" points=\"1174,-54.5 1174,-90.5 \"/>\n<text text-anchor=\"middle\" x=\"1215\" y=\"-68.8\" font-family=\"Times,serif\" font-size=\"14.00\">grad 0.5000</text>\n</g>\n<!-- 140558339138896&#45;&gt;140558339139136tanh -->\n<g id=\"edge8\" class=\"edge\">\n<title>140558339138896&#45;&gt;140558339139136tanh</title>\n<path fill=\"none\" stroke=\"black\" d=\"M1256.01,-72.5C1265.01,-72.5 1273.74,-72.5 1281.66,-72.5\"/>\n<polygon fill=\"black\" stroke=\"black\" points=\"1281.91,-76 1291.91,-72.5 1281.91,-69 1281.91,-76\"/>\n</g>\n<!-- 140558339138896+&#45;&gt;140558339138896 -->\n<g id=\"edge4\" class=\"edge\">\n<title>140558339138896+&#45;&gt;140558339138896</title>\n<path fill=\"none\" stroke=\"black\" d=\"M1035.04,-72.5C1042.58,-72.5 1051.3,-72.5 1060.57,-72.5\"/>\n<polygon fill=\"black\" stroke=\"black\" points=\"1060.81,-76 1070.81,-72.5 1060.81,-69 1060.81,-76\"/>\n</g>\n<!-- 140558339395488 -->\n<g id=\"node11\" class=\"node\">\n<title>140558339395488</title>\n<polygon fill=\"none\" stroke=\"black\" points=\"326,-55.5 326,-91.5 546,-91.5 546,-55.5 326,-55.5\"/>\n<text text-anchor=\"middle\" x=\"352.5\" y=\"-69.8\" font-family=\"Times,serif\" font-size=\"14.00\">x1*w1</text>\n<polyline fill=\"none\" stroke=\"black\" points=\"379,-55.5 379,-91.5 \"/>\n<text text-anchor=\"middle\" x=\"421.5\" y=\"-69.8\" font-family=\"Times,serif\" font-size=\"14.00\">data &#45;6.0000</text>\n<polyline fill=\"none\" stroke=\"black\" points=\"464,-55.5 464,-91.5 \"/>\n<text text-anchor=\"middle\" x=\"505\" y=\"-69.8\" font-family=\"Times,serif\" font-size=\"14.00\">grad 0.5000</text>\n</g>\n<!-- 140558339395488&#45;&gt;140558339393184+ -->\n<g id=\"edge7\" class=\"edge\">\n<title>140558339395488&#45;&gt;140558339393184+</title>\n<path fill=\"none\" stroke=\"black\" d=\"M546.27,-90.75C555.64,-92.23 564.6,-93.65 572.65,-94.92\"/>\n<polygon fill=\"black\" stroke=\"black\" points=\"572.23,-98.4 582.65,-96.5 573.32,-91.48 572.23,-98.4\"/>\n</g>\n<!-- 140558339395488*&#45;&gt;140558339395488 -->\n<g id=\"edge5\" class=\"edge\">\n<title>140558339395488*&#45;&gt;140558339395488</title>\n<path fill=\"none\" stroke=\"black\" d=\"M290.34,-73.5C297.77,-73.5 306.37,-73.5 315.6,-73.5\"/>\n<polygon fill=\"black\" stroke=\"black\" points=\"315.84,-77 325.84,-73.5 315.84,-70 315.84,-77\"/>\n</g>\n<!-- 140558339394480 -->\n<g id=\"node13\" class=\"node\">\n<title>140558339394480</title>\n<polygon fill=\"none\" stroke=\"black\" points=\"2.5,-165.5 2.5,-201.5 197.5,-201.5 197.5,-165.5 2.5,-165.5\"/>\n<text text-anchor=\"middle\" x=\"19\" y=\"-179.8\" font-family=\"Times,serif\" font-size=\"14.00\">w2</text>\n<polyline fill=\"none\" stroke=\"black\" points=\"35.5,-165.5 35.5,-201.5 \"/>\n<text text-anchor=\"middle\" x=\"75.5\" y=\"-179.8\" font-family=\"Times,serif\" font-size=\"14.00\">data 1.0000</text>\n<polyline fill=\"none\" stroke=\"black\" points=\"115.5,-165.5 115.5,-201.5 \"/>\n<text text-anchor=\"middle\" x=\"156.5\" y=\"-179.8\" font-family=\"Times,serif\" font-size=\"14.00\">grad 0.0000</text>\n</g>\n<!-- 140558339394480&#45;&gt;140558339392080* -->\n<g id=\"edge12\" class=\"edge\">\n<title>140558339394480&#45;&gt;140558339392080*</title>\n<path fill=\"none\" stroke=\"black\" d=\"M172.53,-165.44C181.84,-162.67 191.2,-159.67 200,-156.5 210.53,-152.71 221.75,-147.9 231.72,-143.33\"/>\n<polygon fill=\"black\" stroke=\"black\" points=\"233.25,-146.48 240.82,-139.07 230.28,-140.14 233.25,-146.48\"/>\n</g>\n<!-- 140558339395008 -->\n<g id=\"node14\" class=\"node\">\n<title>140558339395008</title>\n<polygon fill=\"none\" stroke=\"black\" points=\"716,-27.5 716,-63.5 901,-63.5 901,-27.5 716,-27.5\"/>\n<text text-anchor=\"middle\" x=\"727.5\" y=\"-41.8\" font-family=\"Times,serif\" font-size=\"14.00\">b</text>\n<polyline fill=\"none\" stroke=\"black\" points=\"739,-27.5 739,-63.5 \"/>\n<text text-anchor=\"middle\" x=\"779\" y=\"-41.8\" font-family=\"Times,serif\" font-size=\"14.00\">data 6.8814</text>\n<polyline fill=\"none\" stroke=\"black\" points=\"819,-27.5 819,-63.5 \"/>\n<text text-anchor=\"middle\" x=\"860\" y=\"-41.8\" font-family=\"Times,serif\" font-size=\"14.00\">grad 0.5000</text>\n</g>\n<!-- 140558339395008&#45;&gt;140558339138896+ -->\n<g id=\"edge13\" class=\"edge\">\n<title>140558339395008&#45;&gt;140558339138896+</title>\n<path fill=\"none\" stroke=\"black\" d=\"M901.02,-58.01C926,-61.43 951.59,-64.93 971.37,-67.63\"/>\n<polygon fill=\"black\" stroke=\"black\" points=\"971.05,-71.12 981.43,-69.01 972,-64.18 971.05,-71.12\"/>\n</g>\n<!-- 140558339394000 -->\n<g id=\"node15\" class=\"node\">\n<title>140558339394000</title>\n<polygon fill=\"none\" stroke=\"black\" points=\"4,-110.5 4,-146.5 196,-146.5 196,-110.5 4,-110.5\"/>\n<text text-anchor=\"middle\" x=\"19\" y=\"-124.8\" font-family=\"Times,serif\" font-size=\"14.00\">x2</text>\n<polyline fill=\"none\" stroke=\"black\" points=\"34,-110.5 34,-146.5 \"/>\n<text text-anchor=\"middle\" x=\"74\" y=\"-124.8\" font-family=\"Times,serif\" font-size=\"14.00\">data 0.0000</text>\n<polyline fill=\"none\" stroke=\"black\" points=\"114,-110.5 114,-146.5 \"/>\n<text text-anchor=\"middle\" x=\"155\" y=\"-124.8\" font-family=\"Times,serif\" font-size=\"14.00\">grad 0.5000</text>\n</g>\n<!-- 140558339394000&#45;&gt;140558339392080* -->\n<g id=\"edge10\" class=\"edge\">\n<title>140558339394000&#45;&gt;140558339392080*</title>\n<path fill=\"none\" stroke=\"black\" d=\"M196.05,-128.5C206.52,-128.5 216.65,-128.5 225.71,-128.5\"/>\n<polygon fill=\"black\" stroke=\"black\" points=\"225.79,-132 235.79,-128.5 225.79,-125 225.79,-132\"/>\n</g>\n</g>\n</svg>\n"
          },
          "metadata": {},
          "execution_count": 74
        }
      ]
    },
    {
      "cell_type": "code",
      "source": [
        "#There is a probelm in above aproach where the derevative can get wrong\n",
        "a = Value(3.0, label='a')\n",
        "b = a + a; b.label = 'b'\n",
        "b.backward()\n",
        "draw_dot(b)"
      ],
      "metadata": {
        "colab": {
          "base_uri": "https://localhost:8080/",
          "height": 81
        },
        "id": "veJoLrsAiRDU",
        "outputId": "b2af9bf7-876e-4284-9300-f508b50f75dd"
      },
      "execution_count": 75,
      "outputs": [
        {
          "output_type": "execute_result",
          "data": {
            "text/plain": [
              "<graphviz.dot.Digraph at 0x7fd649e3c130>"
            ],
            "image/svg+xml": "<?xml version=\"1.0\" encoding=\"UTF-8\" standalone=\"no\"?>\n<!DOCTYPE svg PUBLIC \"-//W3C//DTD SVG 1.1//EN\"\n \"http://www.w3.org/Graphics/SVG/1.1/DTD/svg11.dtd\">\n<!-- Generated by graphviz version 2.43.0 (0)\n -->\n<!-- Title: %3 Pages: 1 -->\n<svg width=\"504pt\" height=\"45pt\"\n viewBox=\"0.00 0.00 504.00 45.00\" xmlns=\"http://www.w3.org/2000/svg\" xmlns:xlink=\"http://www.w3.org/1999/xlink\">\n<g id=\"graph0\" class=\"graph\" transform=\"scale(1 1) rotate(0) translate(4 41)\">\n<title>%3</title>\n<polygon fill=\"white\" stroke=\"transparent\" points=\"-4,4 -4,-41 500,-41 500,4 -4,4\"/>\n<!-- 140558339392896 -->\n<g id=\"node1\" class=\"node\">\n<title>140558339392896</title>\n<polygon fill=\"none\" stroke=\"black\" points=\"311,-0.5 311,-36.5 496,-36.5 496,-0.5 311,-0.5\"/>\n<text text-anchor=\"middle\" x=\"322.5\" y=\"-14.8\" font-family=\"Times,serif\" font-size=\"14.00\">b</text>\n<polyline fill=\"none\" stroke=\"black\" points=\"334,-0.5 334,-36.5 \"/>\n<text text-anchor=\"middle\" x=\"374\" y=\"-14.8\" font-family=\"Times,serif\" font-size=\"14.00\">data 6.0000</text>\n<polyline fill=\"none\" stroke=\"black\" points=\"414,-0.5 414,-36.5 \"/>\n<text text-anchor=\"middle\" x=\"455\" y=\"-14.8\" font-family=\"Times,serif\" font-size=\"14.00\">grad 1.0000</text>\n</g>\n<!-- 140558339392896+ -->\n<g id=\"node2\" class=\"node\">\n<title>140558339392896+</title>\n<ellipse fill=\"none\" stroke=\"black\" cx=\"248\" cy=\"-18.5\" rx=\"27\" ry=\"18\"/>\n<text text-anchor=\"middle\" x=\"248\" y=\"-14.8\" font-family=\"Times,serif\" font-size=\"14.00\">+</text>\n</g>\n<!-- 140558339392896+&#45;&gt;140558339392896 -->\n<g id=\"edge1\" class=\"edge\">\n<title>140558339392896+&#45;&gt;140558339392896</title>\n<path fill=\"none\" stroke=\"black\" d=\"M275.04,-18.5C282.58,-18.5 291.3,-18.5 300.57,-18.5\"/>\n<polygon fill=\"black\" stroke=\"black\" points=\"300.81,-22 310.81,-18.5 300.81,-15 300.81,-22\"/>\n</g>\n<!-- 140558339393760 -->\n<g id=\"node3\" class=\"node\">\n<title>140558339393760</title>\n<polygon fill=\"none\" stroke=\"black\" points=\"0,-0.5 0,-36.5 185,-36.5 185,-0.5 0,-0.5\"/>\n<text text-anchor=\"middle\" x=\"11.5\" y=\"-14.8\" font-family=\"Times,serif\" font-size=\"14.00\">a</text>\n<polyline fill=\"none\" stroke=\"black\" points=\"23,-0.5 23,-36.5 \"/>\n<text text-anchor=\"middle\" x=\"63\" y=\"-14.8\" font-family=\"Times,serif\" font-size=\"14.00\">data 3.0000</text>\n<polyline fill=\"none\" stroke=\"black\" points=\"103,-0.5 103,-36.5 \"/>\n<text text-anchor=\"middle\" x=\"144\" y=\"-14.8\" font-family=\"Times,serif\" font-size=\"14.00\">grad 1.0000</text>\n</g>\n<!-- 140558339393760&#45;&gt;140558339392896+ -->\n<g id=\"edge2\" class=\"edge\">\n<title>140558339393760&#45;&gt;140558339392896+</title>\n<path fill=\"none\" stroke=\"black\" d=\"M185.01,-18.5C194.01,-18.5 202.74,-18.5 210.66,-18.5\"/>\n<polygon fill=\"black\" stroke=\"black\" points=\"210.91,-22 220.91,-18.5 210.91,-15 210.91,-22\"/>\n</g>\n</g>\n</svg>\n"
          },
          "metadata": {},
          "execution_count": 75
        }
      ]
    },
    {
      "cell_type": "code",
      "source": [
        "a = Value(-2.0, label='a')\n",
        "b = Value(3.0, label='b')\n",
        "d = a * b    ; d.label = 'd'\n",
        "e = a + b    ; e.label = 'e'\n",
        "f = d * e    ; f.label = 'f'\n",
        "\n",
        "f.backward()\n",
        "\n",
        "draw_dot(f)"
      ],
      "metadata": {
        "colab": {
          "base_uri": "https://localhost:8080/",
          "height": 174
        },
        "id": "EmsqjsVJzaBm",
        "outputId": "a9f9371a-91b0-4705-d49c-c4635bc618f9"
      },
      "execution_count": 76,
      "outputs": [
        {
          "output_type": "execute_result",
          "data": {
            "text/plain": [
              "<graphviz.dot.Digraph at 0x7fd649d8d670>"
            ],
            "image/svg+xml": "<?xml version=\"1.0\" encoding=\"UTF-8\" standalone=\"no\"?>\n<!DOCTYPE svg PUBLIC \"-//W3C//DTD SVG 1.1//EN\"\n \"http://www.w3.org/Graphics/SVG/1.1/DTD/svg11.dtd\">\n<!-- Generated by graphviz version 2.43.0 (0)\n -->\n<!-- Title: %3 Pages: 1 -->\n<svg width=\"832pt\" height=\"100pt\"\n viewBox=\"0.00 0.00 832.00 100.00\" xmlns=\"http://www.w3.org/2000/svg\" xmlns:xlink=\"http://www.w3.org/1999/xlink\">\n<g id=\"graph0\" class=\"graph\" transform=\"scale(1 1) rotate(0) translate(4 96)\">\n<title>%3</title>\n<polygon fill=\"white\" stroke=\"transparent\" points=\"-4,4 -4,-96 828,-96 828,4 -4,4\"/>\n<!-- 140558339138128 -->\n<g id=\"node1\" class=\"node\">\n<title>140558339138128</title>\n<polygon fill=\"none\" stroke=\"black\" points=\"636,-27.5 636,-63.5 824,-63.5 824,-27.5 636,-27.5\"/>\n<text text-anchor=\"middle\" x=\"646.5\" y=\"-41.8\" font-family=\"Times,serif\" font-size=\"14.00\">f</text>\n<polyline fill=\"none\" stroke=\"black\" points=\"657,-27.5 657,-63.5 \"/>\n<text text-anchor=\"middle\" x=\"699.5\" y=\"-41.8\" font-family=\"Times,serif\" font-size=\"14.00\">data &#45;6.0000</text>\n<polyline fill=\"none\" stroke=\"black\" points=\"742,-27.5 742,-63.5 \"/>\n<text text-anchor=\"middle\" x=\"783\" y=\"-41.8\" font-family=\"Times,serif\" font-size=\"14.00\">grad 1.0000</text>\n</g>\n<!-- 140558339138128* -->\n<g id=\"node2\" class=\"node\">\n<title>140558339138128*</title>\n<ellipse fill=\"none\" stroke=\"black\" cx=\"573\" cy=\"-45.5\" rx=\"27\" ry=\"18\"/>\n<text text-anchor=\"middle\" x=\"573\" y=\"-41.8\" font-family=\"Times,serif\" font-size=\"14.00\">*</text>\n</g>\n<!-- 140558339138128*&#45;&gt;140558339138128 -->\n<g id=\"edge1\" class=\"edge\">\n<title>140558339138128*&#45;&gt;140558339138128</title>\n<path fill=\"none\" stroke=\"black\" d=\"M600.29,-45.5C607.78,-45.5 616.42,-45.5 625.6,-45.5\"/>\n<polygon fill=\"black\" stroke=\"black\" points=\"625.76,-49 635.76,-45.5 625.76,-42 625.76,-49\"/>\n</g>\n<!-- 140558338677872 -->\n<g id=\"node3\" class=\"node\">\n<title>140558338677872</title>\n<polygon fill=\"none\" stroke=\"black\" points=\"2.5,-55.5 2.5,-91.5 191.5,-91.5 191.5,-55.5 2.5,-55.5\"/>\n<text text-anchor=\"middle\" x=\"14\" y=\"-69.8\" font-family=\"Times,serif\" font-size=\"14.00\">b</text>\n<polyline fill=\"none\" stroke=\"black\" points=\"25.5,-55.5 25.5,-91.5 \"/>\n<text text-anchor=\"middle\" x=\"65.5\" y=\"-69.8\" font-family=\"Times,serif\" font-size=\"14.00\">data 3.0000</text>\n<polyline fill=\"none\" stroke=\"black\" points=\"105.5,-55.5 105.5,-91.5 \"/>\n<text text-anchor=\"middle\" x=\"148.5\" y=\"-69.8\" font-family=\"Times,serif\" font-size=\"14.00\">grad &#45;6.0000</text>\n</g>\n<!-- 140558338676096+ -->\n<g id=\"node6\" class=\"node\">\n<title>140558338676096+</title>\n<ellipse fill=\"none\" stroke=\"black\" cx=\"257\" cy=\"-73.5\" rx=\"27\" ry=\"18\"/>\n<text text-anchor=\"middle\" x=\"257\" y=\"-69.8\" font-family=\"Times,serif\" font-size=\"14.00\">+</text>\n</g>\n<!-- 140558338677872&#45;&gt;140558338676096+ -->\n<g id=\"edge6\" class=\"edge\">\n<title>140558338677872&#45;&gt;140558338676096+</title>\n<path fill=\"none\" stroke=\"black\" d=\"M191.74,-73.5C201.55,-73.5 211.04,-73.5 219.59,-73.5\"/>\n<polygon fill=\"black\" stroke=\"black\" points=\"219.87,-77 229.87,-73.5 219.87,-70 219.87,-77\"/>\n</g>\n<!-- 140558338678688* -->\n<g id=\"node8\" class=\"node\">\n<title>140558338678688*</title>\n<ellipse fill=\"none\" stroke=\"black\" cx=\"257\" cy=\"-18.5\" rx=\"27\" ry=\"18\"/>\n<text text-anchor=\"middle\" x=\"257\" y=\"-14.8\" font-family=\"Times,serif\" font-size=\"14.00\">*</text>\n</g>\n<!-- 140558338677872&#45;&gt;140558338678688* -->\n<g id=\"edge9\" class=\"edge\">\n<title>140558338677872&#45;&gt;140558338678688*</title>\n<path fill=\"none\" stroke=\"black\" d=\"M166.84,-55.49C176.04,-52.69 185.3,-49.67 194,-46.5 204.51,-42.67 215.73,-37.84 225.7,-33.28\"/>\n<polygon fill=\"black\" stroke=\"black\" points=\"227.23,-36.43 234.81,-29.02 224.27,-30.09 227.23,-36.43\"/>\n</g>\n<!-- 140558338674944 -->\n<g id=\"node4\" class=\"node\">\n<title>140558338674944</title>\n<polygon fill=\"none\" stroke=\"black\" points=\"0,-0.5 0,-36.5 194,-36.5 194,-0.5 0,-0.5\"/>\n<text text-anchor=\"middle\" x=\"11.5\" y=\"-14.8\" font-family=\"Times,serif\" font-size=\"14.00\">a</text>\n<polyline fill=\"none\" stroke=\"black\" points=\"23,-0.5 23,-36.5 \"/>\n<text text-anchor=\"middle\" x=\"65.5\" y=\"-14.8\" font-family=\"Times,serif\" font-size=\"14.00\">data &#45;2.0000</text>\n<polyline fill=\"none\" stroke=\"black\" points=\"108,-0.5 108,-36.5 \"/>\n<text text-anchor=\"middle\" x=\"151\" y=\"-14.8\" font-family=\"Times,serif\" font-size=\"14.00\">grad &#45;6.0000</text>\n</g>\n<!-- 140558338674944&#45;&gt;140558338676096+ -->\n<g id=\"edge8\" class=\"edge\">\n<title>140558338674944&#45;&gt;140558338676096+</title>\n<path fill=\"none\" stroke=\"black\" d=\"M163.94,-36.53C174.08,-39.65 184.37,-43.01 194,-46.5 204.27,-50.22 215.26,-54.8 225.09,-59.12\"/>\n<polygon fill=\"black\" stroke=\"black\" points=\"223.91,-62.43 234.47,-63.32 226.77,-56.04 223.91,-62.43\"/>\n</g>\n<!-- 140558338674944&#45;&gt;140558338678688* -->\n<g id=\"edge4\" class=\"edge\">\n<title>140558338674944&#45;&gt;140558338678688*</title>\n<path fill=\"none\" stroke=\"black\" d=\"M194.01,-18.5C202.98,-18.5 211.65,-18.5 219.51,-18.5\"/>\n<polygon fill=\"black\" stroke=\"black\" points=\"219.7,-22 229.7,-18.5 219.7,-15 219.7,-22\"/>\n</g>\n<!-- 140558338676096 -->\n<g id=\"node5\" class=\"node\">\n<title>140558338676096</title>\n<polygon fill=\"none\" stroke=\"black\" points=\"320.5,-55.5 320.5,-91.5 509.5,-91.5 509.5,-55.5 320.5,-55.5\"/>\n<text text-anchor=\"middle\" x=\"332\" y=\"-69.8\" font-family=\"Times,serif\" font-size=\"14.00\">e</text>\n<polyline fill=\"none\" stroke=\"black\" points=\"343.5,-55.5 343.5,-91.5 \"/>\n<text text-anchor=\"middle\" x=\"383.5\" y=\"-69.8\" font-family=\"Times,serif\" font-size=\"14.00\">data 1.0000</text>\n<polyline fill=\"none\" stroke=\"black\" points=\"423.5,-55.5 423.5,-91.5 \"/>\n<text text-anchor=\"middle\" x=\"466.5\" y=\"-69.8\" font-family=\"Times,serif\" font-size=\"14.00\">grad &#45;6.0000</text>\n</g>\n<!-- 140558338676096&#45;&gt;140558339138128* -->\n<g id=\"edge5\" class=\"edge\">\n<title>140558338676096&#45;&gt;140558339138128*</title>\n<path fill=\"none\" stroke=\"black\" d=\"M509.9,-56.65C519.42,-54.94 528.62,-53.29 536.89,-51.8\"/>\n<polygon fill=\"black\" stroke=\"black\" points=\"537.59,-55.23 546.81,-50.02 536.35,-48.34 537.59,-55.23\"/>\n</g>\n<!-- 140558338676096+&#45;&gt;140558338676096 -->\n<g id=\"edge2\" class=\"edge\">\n<title>140558338676096+&#45;&gt;140558338676096</title>\n<path fill=\"none\" stroke=\"black\" d=\"M284.11,-73.5C291.84,-73.5 300.8,-73.5 310.35,-73.5\"/>\n<polygon fill=\"black\" stroke=\"black\" points=\"310.48,-77 320.48,-73.5 310.48,-70 310.48,-77\"/>\n</g>\n<!-- 140558338678688 -->\n<g id=\"node7\" class=\"node\">\n<title>140558338678688</title>\n<polygon fill=\"none\" stroke=\"black\" points=\"320,-0.5 320,-36.5 510,-36.5 510,-0.5 320,-0.5\"/>\n<text text-anchor=\"middle\" x=\"331.5\" y=\"-14.8\" font-family=\"Times,serif\" font-size=\"14.00\">d</text>\n<polyline fill=\"none\" stroke=\"black\" points=\"343,-0.5 343,-36.5 \"/>\n<text text-anchor=\"middle\" x=\"385.5\" y=\"-14.8\" font-family=\"Times,serif\" font-size=\"14.00\">data &#45;6.0000</text>\n<polyline fill=\"none\" stroke=\"black\" points=\"428,-0.5 428,-36.5 \"/>\n<text text-anchor=\"middle\" x=\"469\" y=\"-14.8\" font-family=\"Times,serif\" font-size=\"14.00\">grad 1.0000</text>\n</g>\n<!-- 140558338678688&#45;&gt;140558339138128* -->\n<g id=\"edge7\" class=\"edge\">\n<title>140558338678688&#45;&gt;140558339138128*</title>\n<path fill=\"none\" stroke=\"black\" d=\"M510.34,-34.83C519.62,-36.44 528.58,-37.99 536.66,-39.38\"/>\n<polygon fill=\"black\" stroke=\"black\" points=\"536.27,-42.87 546.72,-41.12 537.46,-35.97 536.27,-42.87\"/>\n</g>\n<!-- 140558338678688*&#45;&gt;140558338678688 -->\n<g id=\"edge3\" class=\"edge\">\n<title>140558338678688*&#45;&gt;140558338678688</title>\n<path fill=\"none\" stroke=\"black\" d=\"M284.11,-18.5C291.63,-18.5 300.32,-18.5 309.58,-18.5\"/>\n<polygon fill=\"black\" stroke=\"black\" points=\"309.81,-22 319.81,-18.5 309.81,-15 309.81,-22\"/>\n</g>\n</g>\n</svg>\n"
          },
          "metadata": {},
          "execution_count": 76
        }
      ]
    },
    {
      "cell_type": "markdown",
      "source": [
        "So considering the chain rule in such scenarios we need to accumulate the grad"
      ],
      "metadata": {
        "id": "K_fr7Ouu1Y1M"
      }
    },
    {
      "cell_type": "code",
      "source": [
        "#Modifying the value option to accumelate the grad as well as accept instance of numbers too\n",
        "class Value:\n",
        "  def __init__(self, data, _children = (), _op='', label = ''):\n",
        "    self.data = data\n",
        "    self._prev = set(_children)\n",
        "    self._op = _op\n",
        "    self.label = label\n",
        "    self.grad = 0.0\n",
        "    self._backward = lambda : None \n",
        "\n",
        "  def __repr__(self):\n",
        "    return f\"Value(data={self.data})\"\n",
        "\n",
        "  def __add__(self, other):\n",
        "    other = other if isinstance(other, Value) else Value(other)\n",
        "    out = Value(self.data + other.data, (self, other), \"+\")\n",
        "    \n",
        "    def backward_fun():\n",
        "        self.grad += 1.0 * out.grad\n",
        "        other.grad += 1.0 * out.grad\n",
        "    out._backward = backward_fun\n",
        "\n",
        "    return out\n",
        "\n",
        "  def __mul__(self, other):\n",
        "    other = other if isinstance(other, Value) else Value(other)\n",
        "    out = Value(self.data * other.data, (self, other), \"*\") \n",
        "    \n",
        "    def backward_fun():\n",
        "        self.grad += other.data * out.grad\n",
        "        other.grad += self.data * out.grad\n",
        "    out._backward = backward_fun\n",
        "\n",
        "    return out\n",
        "\n",
        "  def tanh(self):\n",
        "    x = self.data\n",
        "    t = (math.exp(2*x) - 1)/(math.exp(2*x) + 1)\n",
        "    out = Value(t, (self, ), 'tanh')\n",
        "\n",
        "    def backward_fun():\n",
        "        out.grad += 1.0\n",
        "        self.grad += 1 - t**2 \n",
        "    out._backward = backward_fun\n",
        "\n",
        "    return out\n",
        "\n",
        "  def backward(self):\n",
        "    topo = []\n",
        "    visited = set()\n",
        "    def build_topo(v):\n",
        "      if v not in visited:\n",
        "        visited.add(v)\n",
        "        for child in v._prev:\n",
        "          build_topo(child)\n",
        "        topo.append(v)\n",
        "    build_topo(self)\n",
        "\n",
        "    self.grad = 1.0\n",
        "    for node in reversed(topo):\n",
        "      node._backward()"
      ],
      "metadata": {
        "id": "XD_KxDslznI4"
      },
      "execution_count": 80,
      "outputs": []
    },
    {
      "cell_type": "code",
      "source": [
        "a = Value(3.0, label='a')\n",
        "b = a + a; b.label = 'b'\n",
        "b.backward()\n",
        "draw_dot(b)"
      ],
      "metadata": {
        "colab": {
          "base_uri": "https://localhost:8080/",
          "height": 81
        },
        "id": "yNhgSlZA2J37",
        "outputId": "5eaa5936-0758-407a-f9af-887944e9efbb"
      },
      "execution_count": 81,
      "outputs": [
        {
          "output_type": "execute_result",
          "data": {
            "text/plain": [
              "<graphviz.dot.Digraph at 0x7fd649dfe820>"
            ],
            "image/svg+xml": "<?xml version=\"1.0\" encoding=\"UTF-8\" standalone=\"no\"?>\n<!DOCTYPE svg PUBLIC \"-//W3C//DTD SVG 1.1//EN\"\n \"http://www.w3.org/Graphics/SVG/1.1/DTD/svg11.dtd\">\n<!-- Generated by graphviz version 2.43.0 (0)\n -->\n<!-- Title: %3 Pages: 1 -->\n<svg width=\"504pt\" height=\"45pt\"\n viewBox=\"0.00 0.00 504.00 45.00\" xmlns=\"http://www.w3.org/2000/svg\" xmlns:xlink=\"http://www.w3.org/1999/xlink\">\n<g id=\"graph0\" class=\"graph\" transform=\"scale(1 1) rotate(0) translate(4 41)\">\n<title>%3</title>\n<polygon fill=\"white\" stroke=\"transparent\" points=\"-4,4 -4,-41 500,-41 500,4 -4,4\"/>\n<!-- 140558339138464 -->\n<g id=\"node1\" class=\"node\">\n<title>140558339138464</title>\n<polygon fill=\"none\" stroke=\"black\" points=\"311,-0.5 311,-36.5 496,-36.5 496,-0.5 311,-0.5\"/>\n<text text-anchor=\"middle\" x=\"322.5\" y=\"-14.8\" font-family=\"Times,serif\" font-size=\"14.00\">b</text>\n<polyline fill=\"none\" stroke=\"black\" points=\"334,-0.5 334,-36.5 \"/>\n<text text-anchor=\"middle\" x=\"374\" y=\"-14.8\" font-family=\"Times,serif\" font-size=\"14.00\">data 6.0000</text>\n<polyline fill=\"none\" stroke=\"black\" points=\"414,-0.5 414,-36.5 \"/>\n<text text-anchor=\"middle\" x=\"455\" y=\"-14.8\" font-family=\"Times,serif\" font-size=\"14.00\">grad 1.0000</text>\n</g>\n<!-- 140558339138464+ -->\n<g id=\"node2\" class=\"node\">\n<title>140558339138464+</title>\n<ellipse fill=\"none\" stroke=\"black\" cx=\"248\" cy=\"-18.5\" rx=\"27\" ry=\"18\"/>\n<text text-anchor=\"middle\" x=\"248\" y=\"-14.8\" font-family=\"Times,serif\" font-size=\"14.00\">+</text>\n</g>\n<!-- 140558339138464+&#45;&gt;140558339138464 -->\n<g id=\"edge1\" class=\"edge\">\n<title>140558339138464+&#45;&gt;140558339138464</title>\n<path fill=\"none\" stroke=\"black\" d=\"M275.04,-18.5C282.58,-18.5 291.3,-18.5 300.57,-18.5\"/>\n<polygon fill=\"black\" stroke=\"black\" points=\"300.81,-22 310.81,-18.5 300.81,-15 300.81,-22\"/>\n</g>\n<!-- 140558339138992 -->\n<g id=\"node3\" class=\"node\">\n<title>140558339138992</title>\n<polygon fill=\"none\" stroke=\"black\" points=\"0,-0.5 0,-36.5 185,-36.5 185,-0.5 0,-0.5\"/>\n<text text-anchor=\"middle\" x=\"11.5\" y=\"-14.8\" font-family=\"Times,serif\" font-size=\"14.00\">a</text>\n<polyline fill=\"none\" stroke=\"black\" points=\"23,-0.5 23,-36.5 \"/>\n<text text-anchor=\"middle\" x=\"63\" y=\"-14.8\" font-family=\"Times,serif\" font-size=\"14.00\">data 3.0000</text>\n<polyline fill=\"none\" stroke=\"black\" points=\"103,-0.5 103,-36.5 \"/>\n<text text-anchor=\"middle\" x=\"144\" y=\"-14.8\" font-family=\"Times,serif\" font-size=\"14.00\">grad 2.0000</text>\n</g>\n<!-- 140558339138992&#45;&gt;140558339138464+ -->\n<g id=\"edge2\" class=\"edge\">\n<title>140558339138992&#45;&gt;140558339138464+</title>\n<path fill=\"none\" stroke=\"black\" d=\"M185.01,-18.5C194.01,-18.5 202.74,-18.5 210.66,-18.5\"/>\n<polygon fill=\"black\" stroke=\"black\" points=\"210.91,-22 220.91,-18.5 210.91,-15 210.91,-22\"/>\n</g>\n</g>\n</svg>\n"
          },
          "metadata": {},
          "execution_count": 81
        }
      ]
    },
    {
      "cell_type": "code",
      "source": [
        "a = Value(-2.0, label='a')\n",
        "b = Value(3.0, label='b')\n",
        "d = a * b    ; d.label = 'd'\n",
        "e = a + b    ; e.label = 'e'\n",
        "f = d * e    ; f.label = 'f'\n",
        "\n",
        "f.backward()\n",
        "\n",
        "draw_dot(f)"
      ],
      "metadata": {
        "colab": {
          "base_uri": "https://localhost:8080/",
          "height": 174
        },
        "id": "X-B5OPBt2L_5",
        "outputId": "321da462-721e-4d7d-c34e-c8077a3d352b"
      },
      "execution_count": 82,
      "outputs": [
        {
          "output_type": "execute_result",
          "data": {
            "text/plain": [
              "<graphviz.dot.Digraph at 0x7fd649e5bb50>"
            ],
            "image/svg+xml": "<?xml version=\"1.0\" encoding=\"UTF-8\" standalone=\"no\"?>\n<!DOCTYPE svg PUBLIC \"-//W3C//DTD SVG 1.1//EN\"\n \"http://www.w3.org/Graphics/SVG/1.1/DTD/svg11.dtd\">\n<!-- Generated by graphviz version 2.43.0 (0)\n -->\n<!-- Title: %3 Pages: 1 -->\n<svg width=\"832pt\" height=\"100pt\"\n viewBox=\"0.00 0.00 832.00 100.00\" xmlns=\"http://www.w3.org/2000/svg\" xmlns:xlink=\"http://www.w3.org/1999/xlink\">\n<g id=\"graph0\" class=\"graph\" transform=\"scale(1 1) rotate(0) translate(4 96)\">\n<title>%3</title>\n<polygon fill=\"white\" stroke=\"transparent\" points=\"-4,4 -4,-96 828,-96 828,4 -4,4\"/>\n<!-- 140558339520688 -->\n<g id=\"node1\" class=\"node\">\n<title>140558339520688</title>\n<polygon fill=\"none\" stroke=\"black\" points=\"2.5,-55.5 2.5,-91.5 191.5,-91.5 191.5,-55.5 2.5,-55.5\"/>\n<text text-anchor=\"middle\" x=\"14\" y=\"-69.8\" font-family=\"Times,serif\" font-size=\"14.00\">b</text>\n<polyline fill=\"none\" stroke=\"black\" points=\"25.5,-55.5 25.5,-91.5 \"/>\n<text text-anchor=\"middle\" x=\"65.5\" y=\"-69.8\" font-family=\"Times,serif\" font-size=\"14.00\">data 3.0000</text>\n<polyline fill=\"none\" stroke=\"black\" points=\"105.5,-55.5 105.5,-91.5 \"/>\n<text text-anchor=\"middle\" x=\"148.5\" y=\"-69.8\" font-family=\"Times,serif\" font-size=\"14.00\">grad &#45;8.0000</text>\n</g>\n<!-- 140558339520208+ -->\n<g id=\"node3\" class=\"node\">\n<title>140558339520208+</title>\n<ellipse fill=\"none\" stroke=\"black\" cx=\"257\" cy=\"-73.5\" rx=\"27\" ry=\"18\"/>\n<text text-anchor=\"middle\" x=\"257\" y=\"-69.8\" font-family=\"Times,serif\" font-size=\"14.00\">+</text>\n</g>\n<!-- 140558339520688&#45;&gt;140558339520208+ -->\n<g id=\"edge9\" class=\"edge\">\n<title>140558339520688&#45;&gt;140558339520208+</title>\n<path fill=\"none\" stroke=\"black\" d=\"M191.74,-73.5C201.55,-73.5 211.04,-73.5 219.59,-73.5\"/>\n<polygon fill=\"black\" stroke=\"black\" points=\"219.87,-77 229.87,-73.5 219.87,-70 219.87,-77\"/>\n</g>\n<!-- 140558339519248* -->\n<g id=\"node5\" class=\"node\">\n<title>140558339519248*</title>\n<ellipse fill=\"none\" stroke=\"black\" cx=\"257\" cy=\"-18.5\" rx=\"27\" ry=\"18\"/>\n<text text-anchor=\"middle\" x=\"257\" y=\"-14.8\" font-family=\"Times,serif\" font-size=\"14.00\">*</text>\n</g>\n<!-- 140558339520688&#45;&gt;140558339519248* -->\n<g id=\"edge8\" class=\"edge\">\n<title>140558339520688&#45;&gt;140558339519248*</title>\n<path fill=\"none\" stroke=\"black\" d=\"M166.84,-55.49C176.04,-52.69 185.3,-49.67 194,-46.5 204.51,-42.67 215.73,-37.84 225.7,-33.28\"/>\n<polygon fill=\"black\" stroke=\"black\" points=\"227.23,-36.43 234.81,-29.02 224.27,-30.09 227.23,-36.43\"/>\n</g>\n<!-- 140558339520208 -->\n<g id=\"node2\" class=\"node\">\n<title>140558339520208</title>\n<polygon fill=\"none\" stroke=\"black\" points=\"320.5,-55.5 320.5,-91.5 509.5,-91.5 509.5,-55.5 320.5,-55.5\"/>\n<text text-anchor=\"middle\" x=\"332\" y=\"-69.8\" font-family=\"Times,serif\" font-size=\"14.00\">e</text>\n<polyline fill=\"none\" stroke=\"black\" points=\"343.5,-55.5 343.5,-91.5 \"/>\n<text text-anchor=\"middle\" x=\"383.5\" y=\"-69.8\" font-family=\"Times,serif\" font-size=\"14.00\">data 1.0000</text>\n<polyline fill=\"none\" stroke=\"black\" points=\"423.5,-55.5 423.5,-91.5 \"/>\n<text text-anchor=\"middle\" x=\"466.5\" y=\"-69.8\" font-family=\"Times,serif\" font-size=\"14.00\">grad &#45;6.0000</text>\n</g>\n<!-- 140558339521312* -->\n<g id=\"node7\" class=\"node\">\n<title>140558339521312*</title>\n<ellipse fill=\"none\" stroke=\"black\" cx=\"573\" cy=\"-45.5\" rx=\"27\" ry=\"18\"/>\n<text text-anchor=\"middle\" x=\"573\" y=\"-41.8\" font-family=\"Times,serif\" font-size=\"14.00\">*</text>\n</g>\n<!-- 140558339520208&#45;&gt;140558339521312* -->\n<g id=\"edge5\" class=\"edge\">\n<title>140558339520208&#45;&gt;140558339521312*</title>\n<path fill=\"none\" stroke=\"black\" d=\"M509.9,-56.65C519.42,-54.94 528.62,-53.29 536.89,-51.8\"/>\n<polygon fill=\"black\" stroke=\"black\" points=\"537.59,-55.23 546.81,-50.02 536.35,-48.34 537.59,-55.23\"/>\n</g>\n<!-- 140558339520208+&#45;&gt;140558339520208 -->\n<g id=\"edge1\" class=\"edge\">\n<title>140558339520208+&#45;&gt;140558339520208</title>\n<path fill=\"none\" stroke=\"black\" d=\"M284.11,-73.5C291.84,-73.5 300.8,-73.5 310.35,-73.5\"/>\n<polygon fill=\"black\" stroke=\"black\" points=\"310.48,-77 320.48,-73.5 310.48,-70 310.48,-77\"/>\n</g>\n<!-- 140558339519248 -->\n<g id=\"node4\" class=\"node\">\n<title>140558339519248</title>\n<polygon fill=\"none\" stroke=\"black\" points=\"320,-0.5 320,-36.5 510,-36.5 510,-0.5 320,-0.5\"/>\n<text text-anchor=\"middle\" x=\"331.5\" y=\"-14.8\" font-family=\"Times,serif\" font-size=\"14.00\">d</text>\n<polyline fill=\"none\" stroke=\"black\" points=\"343,-0.5 343,-36.5 \"/>\n<text text-anchor=\"middle\" x=\"385.5\" y=\"-14.8\" font-family=\"Times,serif\" font-size=\"14.00\">data &#45;6.0000</text>\n<polyline fill=\"none\" stroke=\"black\" points=\"428,-0.5 428,-36.5 \"/>\n<text text-anchor=\"middle\" x=\"469\" y=\"-14.8\" font-family=\"Times,serif\" font-size=\"14.00\">grad 1.0000</text>\n</g>\n<!-- 140558339519248&#45;&gt;140558339521312* -->\n<g id=\"edge4\" class=\"edge\">\n<title>140558339519248&#45;&gt;140558339521312*</title>\n<path fill=\"none\" stroke=\"black\" d=\"M510.34,-34.83C519.62,-36.44 528.58,-37.99 536.66,-39.38\"/>\n<polygon fill=\"black\" stroke=\"black\" points=\"536.27,-42.87 546.72,-41.12 537.46,-35.97 536.27,-42.87\"/>\n</g>\n<!-- 140558339519248*&#45;&gt;140558339519248 -->\n<g id=\"edge2\" class=\"edge\">\n<title>140558339519248*&#45;&gt;140558339519248</title>\n<path fill=\"none\" stroke=\"black\" d=\"M284.11,-18.5C291.63,-18.5 300.32,-18.5 309.58,-18.5\"/>\n<polygon fill=\"black\" stroke=\"black\" points=\"309.81,-22 319.81,-18.5 309.81,-15 309.81,-22\"/>\n</g>\n<!-- 140558339521312 -->\n<g id=\"node6\" class=\"node\">\n<title>140558339521312</title>\n<polygon fill=\"none\" stroke=\"black\" points=\"636,-27.5 636,-63.5 824,-63.5 824,-27.5 636,-27.5\"/>\n<text text-anchor=\"middle\" x=\"646.5\" y=\"-41.8\" font-family=\"Times,serif\" font-size=\"14.00\">f</text>\n<polyline fill=\"none\" stroke=\"black\" points=\"657,-27.5 657,-63.5 \"/>\n<text text-anchor=\"middle\" x=\"699.5\" y=\"-41.8\" font-family=\"Times,serif\" font-size=\"14.00\">data &#45;6.0000</text>\n<polyline fill=\"none\" stroke=\"black\" points=\"742,-27.5 742,-63.5 \"/>\n<text text-anchor=\"middle\" x=\"783\" y=\"-41.8\" font-family=\"Times,serif\" font-size=\"14.00\">grad 1.0000</text>\n</g>\n<!-- 140558339521312*&#45;&gt;140558339521312 -->\n<g id=\"edge3\" class=\"edge\">\n<title>140558339521312*&#45;&gt;140558339521312</title>\n<path fill=\"none\" stroke=\"black\" d=\"M600.29,-45.5C607.78,-45.5 616.42,-45.5 625.6,-45.5\"/>\n<polygon fill=\"black\" stroke=\"black\" points=\"625.76,-49 635.76,-45.5 625.76,-42 625.76,-49\"/>\n</g>\n<!-- 140558339518864 -->\n<g id=\"node8\" class=\"node\">\n<title>140558339518864</title>\n<polygon fill=\"none\" stroke=\"black\" points=\"0,-0.5 0,-36.5 194,-36.5 194,-0.5 0,-0.5\"/>\n<text text-anchor=\"middle\" x=\"11.5\" y=\"-14.8\" font-family=\"Times,serif\" font-size=\"14.00\">a</text>\n<polyline fill=\"none\" stroke=\"black\" points=\"23,-0.5 23,-36.5 \"/>\n<text text-anchor=\"middle\" x=\"65.5\" y=\"-14.8\" font-family=\"Times,serif\" font-size=\"14.00\">data &#45;2.0000</text>\n<polyline fill=\"none\" stroke=\"black\" points=\"108,-0.5 108,-36.5 \"/>\n<text text-anchor=\"middle\" x=\"151\" y=\"-14.8\" font-family=\"Times,serif\" font-size=\"14.00\">grad &#45;3.0000</text>\n</g>\n<!-- 140558339518864&#45;&gt;140558339520208+ -->\n<g id=\"edge7\" class=\"edge\">\n<title>140558339518864&#45;&gt;140558339520208+</title>\n<path fill=\"none\" stroke=\"black\" d=\"M163.94,-36.53C174.08,-39.65 184.37,-43.01 194,-46.5 204.27,-50.22 215.26,-54.8 225.09,-59.12\"/>\n<polygon fill=\"black\" stroke=\"black\" points=\"223.91,-62.43 234.47,-63.32 226.77,-56.04 223.91,-62.43\"/>\n</g>\n<!-- 140558339518864&#45;&gt;140558339519248* -->\n<g id=\"edge6\" class=\"edge\">\n<title>140558339518864&#45;&gt;140558339519248*</title>\n<path fill=\"none\" stroke=\"black\" d=\"M194.01,-18.5C202.98,-18.5 211.65,-18.5 219.51,-18.5\"/>\n<polygon fill=\"black\" stroke=\"black\" points=\"219.7,-22 229.7,-18.5 219.7,-15 219.7,-22\"/>\n</g>\n</g>\n</svg>\n"
          },
          "metadata": {},
          "execution_count": 82
        }
      ]
    },
    {
      "cell_type": "code",
      "source": [],
      "metadata": {
        "id": "rMPmpoW-2OF4"
      },
      "execution_count": null,
      "outputs": []
    }
  ]
}